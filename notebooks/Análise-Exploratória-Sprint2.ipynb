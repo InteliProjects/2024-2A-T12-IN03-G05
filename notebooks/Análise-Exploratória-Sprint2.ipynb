{
 "cells": [
  {
   "cell_type": "markdown",
   "id": "5561bd21",
   "metadata": {},
   "source": [
    "### Importação de blibiotecas"
   ]
  },
  {
   "cell_type": "code",
   "execution_count": null,
   "id": "cba11d83-af8b-4369-b1a3-386879385628",
   "metadata": {},
   "outputs": [],
   "source": [
    "import pandas as pd; pd.set_option('display.max_rows', 20); pd.set_option('display.max_columns', 1000); pd.set_option('display.width', 1000)\n",
    "import numpy as np\n",
    "import matplotlib.pyplot as plt\n",
    "import seaborn as sns"
   ]
  },
  {
   "cell_type": "markdown",
   "id": "b832c308",
   "metadata": {},
   "source": [
    "#### Importação das tabelas"
   ]
  },
  {
   "cell_type": "code",
   "execution_count": null,
   "id": "0903a6b1-1ecb-4f8a-84ec-72b5e8086827",
   "metadata": {},
   "outputs": [],
   "source": [
    "df_1 = pd.read_csv('BaseDados_ProjetoINTELI_RG_31JUL24.csv')\n",
    "df_2 = pd.read_csv('BaseDados_ProjetoINTELI_RG_19JUL24.csv')\n",
    "df_3 = pd.read_csv('BaseDados_ProjetoINTELI_RG_01_AGOSTO_2024.csv')"
   ]
  },
  {
   "cell_type": "code",
   "execution_count": null,
   "id": "535f5cca",
   "metadata": {},
   "outputs": [],
   "source": [
    "pd.set_option('display.max_rows', 10)\n"
   ]
  },
  {
   "cell_type": "markdown",
   "id": "22787502",
   "metadata": {},
   "source": [
    "## Tratamento Tabela 1"
   ]
  },
  {
   "cell_type": "markdown",
   "id": "8e885248",
   "metadata": {},
   "source": [
    "### Primeira análise da tabela"
   ]
  },
  {
   "cell_type": "code",
   "execution_count": null,
   "id": "596a1cbc-44f4-47bc-a85f-6f49818cc43f",
   "metadata": {},
   "outputs": [],
   "source": [
    "list(df_1.columns)"
   ]
  },
  {
   "cell_type": "markdown",
   "id": "7df9b408",
   "metadata": {},
   "source": [
    "### Drop das colunas divergentes das outras tabelas\n",
    "a coluna 'Mês/ano', seria uma coluna repetida e sem uso na tabela, isso porque temos as colunas 'Mês' e 'ano', que além de estarem separadas estão mais facilitadas para a conversão de formato Time (Data). A Coluna 'CONCATENAR' são muitos dados nulos assim como a coluna '% Ating. Meta'."
   ]
  },
  {
   "cell_type": "code",
   "execution_count": null,
   "id": "54213e2c-b64b-430e-99bf-97d980604ec2",
   "metadata": {},
   "outputs": [],
   "source": [
    "df_1 = df_1.drop(columns=['Mês/ano', 'CONCATENAR', '% Ating. Meta'])\n",
    "df_1 = df_1.rename(columns={'Ano':'ano'})"
   ]
  },
  {
   "cell_type": "code",
   "execution_count": null,
   "id": "79b2dc14-bdb2-4d07-b349-a4cb8426d991",
   "metadata": {},
   "outputs": [],
   "source": [
    "df_1.head()"
   ]
  },
  {
   "cell_type": "markdown",
   "id": "b44f2895",
   "metadata": {},
   "source": [
    "### Checagem de dados nulos\n",
    "Temos mesmo com o drop das colunas divergentes vários dados nulos na tabela 1, por isso devemos identificá-los e acharmos alguma forma de preenche-los."
   ]
  },
  {
   "cell_type": "code",
   "execution_count": null,
   "id": "25253b76",
   "metadata": {},
   "outputs": [],
   "source": [
    "df_1.isna().sum()"
   ]
  },
  {
   "cell_type": "markdown",
   "id": "4ed78042",
   "metadata": {},
   "source": [
    "Aqui vemos que os dois tipos de setor que estão nulos na tabela 1, são Comércios de acordo com os tipos de classificação possíveis nessa coluna ('Setor')."
   ]
  },
  {
   "cell_type": "code",
   "execution_count": null,
   "id": "0dae6524",
   "metadata": {},
   "outputs": [],
   "source": [
    "df_1[df_1['Setor'].isna()]"
   ]
  },
  {
   "cell_type": "code",
   "execution_count": null,
   "id": "f5a1cf25",
   "metadata": {},
   "outputs": [],
   "source": [
    "df_1['Setor'].value_counts()"
   ]
  },
  {
   "cell_type": "code",
   "execution_count": null,
   "id": "34de2a6d-6d8f-4654-809f-fe4a158431b0",
   "metadata": {},
   "outputs": [],
   "source": [
    "df_1.at[36839, 'Setor'] = 'COMERC.P/ AUTOMOTIVO'\n",
    "df_1.at[45332, 'Setor'] = 'LOJA VAREJISTA/ATAC'"
   ]
  },
  {
   "cell_type": "markdown",
   "id": "a8dcf10f",
   "metadata": {},
   "source": [
    "Agora iremos ordenar a tabela pela data para podermos completar os dados nulos de PIB"
   ]
  },
  {
   "cell_type": "code",
   "execution_count": null,
   "id": "bc3140eb",
   "metadata": {},
   "outputs": [],
   "source": [
    "df_1 = df_1.sort_values(by=['ano', 'Mês'])\n",
    "df_1"
   ]
  },
  {
   "cell_type": "code",
   "execution_count": null,
   "id": "76b0c940",
   "metadata": {},
   "outputs": [],
   "source": [
    "df_1 = df_1.fillna(method='ffill')"
   ]
  },
  {
   "cell_type": "code",
   "execution_count": null,
   "id": "33bcb1ac",
   "metadata": {},
   "outputs": [],
   "source": [
    "df_1.isna().sum()"
   ]
  },
  {
   "cell_type": "markdown",
   "id": "0f2a316f",
   "metadata": {},
   "source": [
    "### Arrumar erros de digitação/formatação\n",
    "A coluna desconto não deve possuir uma porcentagem negativa e sim positiva, então removemos o '-' de todos as porcentagens de desconto"
   ]
  },
  {
   "cell_type": "code",
   "execution_count": null,
   "id": "74e8454e-e891-48e5-ac65-8bcc8ff60b8b",
   "metadata": {},
   "outputs": [],
   "source": [
    "# df.loc[(df['Cliente'] == 'DMA DISTRIBUIDORA SA') & (df['ano'] == 2023) & (df['Mês'] == 1)]\n",
    "df_1['Desc %'] = df_1['Desc %'].str.replace('-','')\n"
   ]
  },
  {
   "cell_type": "markdown",
   "id": "3725efcf",
   "metadata": {},
   "source": [
    "### Apagar linhas duplicadas"
   ]
  },
  {
   "cell_type": "code",
   "execution_count": null,
   "id": "5fa7bc8f",
   "metadata": {},
   "outputs": [],
   "source": [
    "df_1.drop_duplicates(inplace=True)\n",
    "df_1.duplicated().sum()"
   ]
  },
  {
   "cell_type": "code",
   "execution_count": null,
   "id": "5ec73122",
   "metadata": {},
   "outputs": [],
   "source": [
    "# df_4.drop(columns=['EMPRESA', 'NOME EMPRESA', 'UN', 'VEÍCULO', 'AUTORIZAÇÃO', 'DT AUTORIZAÇÃO', 'CLIENTE', 'NOME FANTASIA CLIENTE', 'GRUPO CLIENTE', 'SETOR', 'SUBSETOR', 'NOME SUBSETOR', 'AGÊNCIA', 'NOME AGÊNCIA', 'EQUIPE CV', 'CANAL DE VENDA', 'NOME CANAL DE VENDA', 'TÍTULO', 'É PATROCICIO', 'CONTRATO', 'DT INICIAL', 'DT FINAL', 'TIPO MÍDIA', 'DT EVENTO', 'TP PI', '' ])"
   ]
  },
  {
   "cell_type": "markdown",
   "id": "04263f3e",
   "metadata": {},
   "source": [
    "### Transformação dos tipos de dados númericos de string para integers/números"
   ]
  },
  {
   "cell_type": "code",
   "execution_count": null,
   "id": "e5c9f1d3",
   "metadata": {},
   "outputs": [],
   "source": [
    "uen = df_1.sort_values(by=['Cliente', 'Veiculo'])\n",
    "# uen[uen['Cliente'] == '']"
   ]
  },
  {
   "cell_type": "code",
   "execution_count": null,
   "id": "efa02353",
   "metadata": {},
   "outputs": [],
   "source": [
    "#Limpando a Coluna de Valor liquído e Convertendo colunas de string para número\n",
    "df_1['Vl Liquido Final'] = df_1['Vl Liquido Final'].str.replace('.', '')\n",
    "df_1['Vl Liquido Final'] = df_1['Vl Liquido Final'].str.replace(',', '.')\n",
    "df_1['Vl Bruto'] = df_1['Vl Bruto'].str.replace('.', '')\n",
    "df_1['Vl Bruto'] = df_1['Vl Bruto'].str.replace(',', '.')\n",
    "df_1['Desconto R$'] = df_1['Desconto R$'].str.replace('.', '')\n",
    "df_1['Desconto R$'] = df_1['Desconto R$'].str.replace(',', '.')\n",
    "df_1['VL Tabela'] = df_1['VL Tabela'].str.replace('.', '')\n",
    "df_1['VL Tabela'] = df_1['VL Tabela'].str.replace(',', '.')\n",
    "df_1['IPCA ES'] = df_1['IPCA ES'].str.replace(',', '.')\n",
    "df_1['IPCA BR'] = df_1['IPCA BR'].str.replace(',', '.')\n",
    "df_1['Taxa Ac. TRI % PIB'] = df_1['Taxa Ac. TRI % PIB'].str.replace(',', '.')\n",
    "df_1['Desc %'] = df_1['Desc %'].str.replace('%', '')\n",
    "#to_numeric\n",
    "df_1['Vl Liquido Final'] = pd.to_numeric(df_1['Vl Liquido Final'])\n",
    "df_1['Vl Bruto'] = pd.to_numeric(df_1['Vl Bruto'])\n",
    "df_1['Desconto R$'] = pd.to_numeric(df_1['Desconto R$'])\n",
    "df_1['VL Tabela'] = pd.to_numeric(df_1['VL Tabela'])\n",
    "df_1['IPCA ES'] = pd.to_numeric(df_1['IPCA ES'])\n",
    "df_1['IPCA BR'] = pd.to_numeric(df_1['IPCA BR'])\n",
    "df_1['Taxa Ac. TRI % PIB'] = pd.to_numeric(df_1['Taxa Ac. TRI % PIB'])\n",
    "df_1['Desc %'] = pd.to_numeric(df_1['Desc %'])\n",
    "df_1['Desc %'] = df_1['Desc %']/100\n",
    "df_1['ano'] = pd.to_numeric(df_1['ano'])\n",
    "df_1['Mês'] = pd.to_numeric(df_1['Mês'])"
   ]
  },
  {
   "cell_type": "markdown",
   "id": "48f930e6",
   "metadata": {},
   "source": [
    "### Tranformação das colunas de Dia, Mês e Ano para formato de Time (Data)"
   ]
  },
  {
   "cell_type": "code",
   "execution_count": null,
   "id": "1661c4c9",
   "metadata": {},
   "outputs": [],
   "source": [
    "#Criando coluna 'Dia' para poder converter conjuntamente com as colunas 'Mês' e 'ano' para um formato Dataframe\n",
    "df_1['Dia'] = 1\n",
    "df_1_to_time = df_1[['ano', 'Mês', 'Dia']].rename(columns={'ano': 'year', 'Mês': 'month', 'Dia': 'day'})\n",
    "df_1['Data'] = pd.to_datetime(df_1_to_time)\n",
    "#Apagando as colunas repetidas que já estão presente no Dataframe\n",
    "df_1.drop(columns=['ano', 'Mês', 'Dia'], inplace=True)\n",
    "df_1"
   ]
  },
  {
   "cell_type": "markdown",
   "id": "208db45e",
   "metadata": {},
   "source": [
    "## Tratamento Tabela 2"
   ]
  },
  {
   "cell_type": "markdown",
   "id": "7918205f",
   "metadata": {},
   "source": [
    "### Checagem dos dados nulos\n",
    "e preenchimento dos mesmo conforme a classificação possível do setor"
   ]
  },
  {
   "cell_type": "code",
   "execution_count": null,
   "id": "2bae1efb",
   "metadata": {},
   "outputs": [],
   "source": [
    "df_2.isna().sum()"
   ]
  },
  {
   "cell_type": "code",
   "execution_count": null,
   "id": "93c10fa1",
   "metadata": {},
   "outputs": [],
   "source": [
    "df_2[df_2['Setor'].isna()]"
   ]
  },
  {
   "cell_type": "code",
   "execution_count": null,
   "id": "da700911",
   "metadata": {},
   "outputs": [],
   "source": [
    "df_2.at[34853, 'Setor'] = 'COMERC.P/ AUTOMOTIVO'\n",
    "df_2.at[56106, 'Setor'] = 'LOJA VAREJISTA/ATAC '\n",
    "df_2.isna().sum()"
   ]
  },
  {
   "cell_type": "code",
   "execution_count": null,
   "id": "7cf472b0",
   "metadata": {},
   "outputs": [],
   "source": [
    "df_2.head()"
   ]
  },
  {
   "cell_type": "markdown",
   "id": "88182fd0",
   "metadata": {},
   "source": [
    "### Transformação dos tipos de dados númericos de string para integers/números"
   ]
  },
  {
   "cell_type": "code",
   "execution_count": null,
   "id": "80a78d24",
   "metadata": {},
   "outputs": [],
   "source": [
    "#Limpando a Coluna de Valor liquído e Convertendo colunas de string para número\n",
    "df_2['Vl Liquido Final'] = df_2['Vl Liquido Final'].str.replace('.', '')\n",
    "df_2['Vl Liquido Final'] = df_2['Vl Liquido Final'].str.replace(',', '.')\n",
    "df_2['Vl Bruto'] = df_2['Vl Bruto'].str.replace('.', '')\n",
    "df_2['Vl Bruto'] = df_2['Vl Bruto'].str.replace(',', '.')\n",
    "df_2['Desconto R$'] = df_2['Desconto R$'].str.replace('.', '')\n",
    "df_2['Desconto R$'] = df_2['Desconto R$'].str.replace(',', '.')\n",
    "df_2['VL Tabela'] = df_2['VL Tabela'].str.replace('.', '')\n",
    "df_2['VL Tabela'] = df_2['VL Tabela'].str.replace(',', '.')\n",
    "df_2['Desc %'] = df_2['Desc %'].str.replace('%', '')\n",
    "#to_numeric\n",
    "df_2['Vl Liquido Final'] = pd.to_numeric(df_2['Vl Liquido Final'])\n",
    "df_2['Vl Bruto'] = pd.to_numeric(df_2['Vl Bruto'])\n",
    "df_2['Desconto R$'] = pd.to_numeric(df_2['Desconto R$'])\n",
    "df_2['VL Tabela'] = pd.to_numeric(df_2['VL Tabela'])\n",
    "df_2['Desc %'] = pd.to_numeric(df_2['Desc %'])\n",
    "df_2['Desc %'] = df_2['Desc %']/100\n",
    "df_2['ano'] = pd.to_numeric(df_2['ano'])\n",
    "df_2['Mês'] = pd.to_numeric(df_2['Mês'])"
   ]
  },
  {
   "cell_type": "markdown",
   "id": "c2e76d0e",
   "metadata": {},
   "source": [
    "### Tranformação das colunas de Dia, Mês e Ano para formato de Time (Data)"
   ]
  },
  {
   "cell_type": "code",
   "execution_count": null,
   "id": "38683f30",
   "metadata": {},
   "outputs": [],
   "source": [
    "#Criando coluna 'Dia' para poder converter conjuntamente com as colunas 'Mês' e 'ano' para um formato Dataframe\n",
    "df_2['Dia'] = 1\n",
    "df_2_to_time = df_2[['ano', 'Mês', 'Dia']].rename(columns={'ano': 'year', 'Mês': 'month', 'Dia': 'day'})\n",
    "df_2['Data'] = pd.to_datetime(df_2_to_time)\n",
    "#Apagando as colunas repetidas que já estão presente no Dataframe\n",
    "df_2.drop(columns=['ano', 'Mês', 'Dia'], inplace=True)\n",
    "df_2"
   ]
  },
  {
   "cell_type": "markdown",
   "id": "232f1950",
   "metadata": {},
   "source": [
    "### Checagem de linhas duplicadas"
   ]
  },
  {
   "cell_type": "code",
   "execution_count": null,
   "id": "a6aab8c2",
   "metadata": {},
   "outputs": [],
   "source": [
    "df_2.duplicated().sum()"
   ]
  },
  {
   "cell_type": "markdown",
   "id": "ed70a63f",
   "metadata": {},
   "source": [
    "##  Tratamento Tabela 3"
   ]
  },
  {
   "cell_type": "markdown",
   "id": "328b999e",
   "metadata": {},
   "source": [
    "### Tratamento para tirar os Nulos"
   ]
  },
  {
   "cell_type": "code",
   "execution_count": null,
   "id": "344f6bd0",
   "metadata": {},
   "outputs": [],
   "source": [
    "# Visualização da quantidade de valores nulos em df_3\n",
    "print('Valores Nulos:\\n', df_3.isna().sum())\n"
   ]
  },
  {
   "cell_type": "code",
   "execution_count": null,
   "id": "1b7fd790",
   "metadata": {},
   "outputs": [],
   "source": [
    "# Visualização das linhas com valores nulos\n",
    "df_3[df_3['Setor'].isna()]"
   ]
  },
  {
   "cell_type": "code",
   "execution_count": null,
   "id": "1f833291",
   "metadata": {},
   "outputs": [],
   "source": [
    "# Preenchimento dos valores nulos\n",
    "df_3.at[36839, 'Setor'] = 'COMERC.P/ AUTOMOTIVO'\n",
    "df_3.at[45332, 'Setor'] = 'LOJA VAREJISTA/ATAC '\n"
   ]
  },
  {
   "cell_type": "markdown",
   "id": "555a097c",
   "metadata": {},
   "source": [
    "### Tratamento de duplicatas"
   ]
  },
  {
   "cell_type": "code",
   "execution_count": null,
   "id": "376064a9",
   "metadata": {},
   "outputs": [],
   "source": [
    "df_3.duplicated().sum()"
   ]
  },
  {
   "cell_type": "code",
   "execution_count": null,
   "id": "0f14dcf0",
   "metadata": {},
   "outputs": [],
   "source": [
    "df_3.drop_duplicates(inplace=True)\n",
    "df_3.duplicated().sum()"
   ]
  },
  {
   "cell_type": "markdown",
   "id": "eeff9c43",
   "metadata": {},
   "source": [
    "### Tratando a coluna de desconto, tirando o \"-\" dos valores"
   ]
  },
  {
   "cell_type": "code",
   "execution_count": null,
   "id": "830119db",
   "metadata": {},
   "outputs": [],
   "source": [
    "df_3['Desc %'] = df_3['Desc %'].astype(str).str.replace('-','')"
   ]
  },
  {
   "cell_type": "markdown",
   "id": "61762417",
   "metadata": {},
   "source": [
    "### Definindo as colunas que são numéricas e tornando elas de fato números"
   ]
  },
  {
   "cell_type": "code",
   "execution_count": null,
   "id": "6aec1020",
   "metadata": {},
   "outputs": [],
   "source": [
    "    for column in ['Vl Liquido Final', 'Vl Bruto', 'Desconto R$', 'VL Tabela', 'Desc %']:\n",
    "        df_3[column] = df_3[column].str.replace('.', '', regex=False) \n",
    "        df_3[column] = df_3[column].str.replace(',', '.', regex=False)\n",
    "        df_3[column] = df_3[column].str.replace('%', '', regex=False)\n",
    "        df_3[column] = pd.to_numeric(df_3[column])                     \n",
    "\n",
    "df_3.head(3)"
   ]
  },
  {
   "cell_type": "markdown",
   "id": "af7bf08a",
   "metadata": {},
   "source": [
    "### Tornando todas as informações referentes a data uma coluna só"
   ]
  },
  {
   "cell_type": "code",
   "execution_count": null,
   "id": "971b3185",
   "metadata": {},
   "outputs": [],
   "source": [
    "df_3['Dia'] = 1\n",
    "df_3_to_time = df_3[['ano', 'Mês', 'Dia']].rename(columns={'ano': 'year', 'Mês': 'month', 'Dia': 'day'})\n",
    "df_3['Data'] = pd.to_datetime(df_3_to_time)\n",
    "#Apagando as colunas repetidas que já estão presente no Dataframe\n",
    "df_3.drop(columns=['ano', 'Mês', 'Dia'], inplace=True)\n"
   ]
  },
  {
   "cell_type": "code",
   "execution_count": null,
   "id": "80c73d84",
   "metadata": {},
   "outputs": [],
   "source": [
    "df_3['UEN'] = df_3['UEN'].str.replace('DIGITAL', 'Digital')"
   ]
  },
  {
   "cell_type": "code",
   "execution_count": null,
   "id": "64058aca",
   "metadata": {},
   "outputs": [],
   "source": [
    "df_3['UEN'].value_counts()"
   ]
  },
  {
   "cell_type": "code",
   "execution_count": null,
   "id": "1c11e5a6",
   "metadata": {},
   "outputs": [],
   "source": [
    "df_3.head()"
   ]
  },
  {
   "cell_type": "markdown",
   "id": "4ddb0065",
   "metadata": {},
   "source": [
    "## Tratamento das tabelas 4 e 5"
   ]
  },
  {
   "cell_type": "markdown",
   "id": "471e853d",
   "metadata": {},
   "source": [
    "#### Processamento das tabelas\n"
   ]
  },
  {
   "cell_type": "code",
   "execution_count": null,
   "id": "f3cab370",
   "metadata": {},
   "outputs": [],
   "source": [
    "df_4 = pd.read_csv('DadosInternos_RedeGazeta_Inteli v2.csv')\n",
    "df_5 = pd.read_csv('DadosInternos_RedeGazeta_Inteli.csv')"
   ]
  },
  {
   "cell_type": "markdown",
   "id": "4f5a989d",
   "metadata": {},
   "source": [
    "#### Vizualização das colunas das tabelas \n",
    "Para entender a similaridade dos parâmetros das tabelas é preciso a vizualização das colunas\n"
   ]
  },
  {
   "cell_type": "code",
   "execution_count": null,
   "id": "e1f47a5e",
   "metadata": {},
   "outputs": [],
   "source": [
    "# Visualização das colunas das tabelas 4 e 5\n",
    "print('df_4 columns', df_4.columns)\n",
    "print('df_5 columns', df_5.columns)"
   ]
  },
  {
   "cell_type": "code",
   "execution_count": null,
   "id": "05ed269f",
   "metadata": {},
   "outputs": [],
   "source": [
    "# Verificação de valores nulos\n",
    "print('Is na', df_4.isna().sum())\n",
    "print('Is na', df_5.isna().sum())"
   ]
  },
  {
   "cell_type": "markdown",
   "id": "ec97e6c3",
   "metadata": {},
   "source": [
    "#### Eliminação das colunas irrelevantes para a análise de dados\n",
    "Após o entendimento das colunas e para evitar deficiência da análise, o próximo passo é a eliminação das colunas com diversos valores nulos"
   ]
  },
  {
   "cell_type": "code",
   "execution_count": null,
   "id": "46932e45",
   "metadata": {},
   "outputs": [],
   "source": [
    "# Eliminação das colunas irrelevantes para a análise de dados\n",
    "df_4.drop(['TIPO DE RECEITA', 'TIPO DE RECEITA 2','Unnamed: 38'],inplace=True, axis=1)\n",
    "df_5.drop(['TIPO DE RECEITA', 'TIPO DE RECEITA 2','t'],inplace=True, axis=1)"
   ]
  },
  {
   "cell_type": "code",
   "execution_count": null,
   "id": "97388af1",
   "metadata": {},
   "outputs": [],
   "source": [
    "# Após a retirada das colunas, visualização da quantidade de linhas nas tabelas\n",
    "print('df_4 len', len(df_4))\n",
    "print('df_5 len', len(df_5))"
   ]
  },
  {
   "cell_type": "code",
   "execution_count": null,
   "id": "683a1add",
   "metadata": {},
   "outputs": [],
   "source": [
    "# Visualização das colunas após o tratamento\n",
    "print('df_4.columns:', df_4.columns)\n",
    "print('df_5.columns:',df_5.columns)"
   ]
  },
  {
   "cell_type": "markdown",
   "id": "feaf56eb",
   "metadata": {},
   "source": [
    "#### Quantificar dados nulos em cada coluna da tabela \n",
    "Inspecionar os dados e coletar quais estão nulos permite o entender quais colunas são pertinentes para a análise"
   ]
  },
  {
   "cell_type": "code",
   "execution_count": null,
   "id": "66ff9006",
   "metadata": {},
   "outputs": [],
   "source": [
    "# Quantidade de valores nulos na tabela 4\n",
    "print('Is na', df_4.isna().sum())"
   ]
  },
  {
   "cell_type": "code",
   "execution_count": null,
   "id": "0dae6109",
   "metadata": {},
   "outputs": [],
   "source": [
    "# Quantidade de valores nulos na tabela 5\n",
    "print('Is na', df_5.isna().sum())"
   ]
  },
  {
   "cell_type": "markdown",
   "id": "834d4a46",
   "metadata": {},
   "source": [
    "#### Quantificar linhas duplicadas\n",
    "É comum linhas duplicadas em grandes tabelas de dados para evitar overfitting"
   ]
  },
  {
   "cell_type": "code",
   "execution_count": null,
   "id": "fc020e13",
   "metadata": {},
   "outputs": [],
   "source": [
    "# Verificando quantas linhas duplicadas tem na tabela df_4\n",
    "df_4.duplicated().sum()"
   ]
  },
  {
   "cell_type": "code",
   "execution_count": null,
   "id": "98afbb65",
   "metadata": {},
   "outputs": [],
   "source": [
    "# Verificando quantas linhas duplicadas tem na tabela df_5\n",
    "df_5.duplicated().sum()"
   ]
  },
  {
   "cell_type": "code",
   "execution_count": null,
   "id": "b8bf717c",
   "metadata": {},
   "outputs": [],
   "source": [
    "# Eliminando linhas duplicadas nas tabelas\n",
    "df_4.drop_duplicates(inplace=True)\n",
    "df_5.drop_duplicates(inplace=True)"
   ]
  },
  {
   "cell_type": "code",
   "execution_count": null,
   "id": "9573b154",
   "metadata": {},
   "outputs": [],
   "source": [
    "# Verificação de linhas duplicadas após tratamento\n",
    "print(df_4.duplicated().sum())\n",
    "print(df_5.duplicated().sum())"
   ]
  },
  {
   "cell_type": "code",
   "execution_count": null,
   "id": "c2ed9cca",
   "metadata": {},
   "outputs": [],
   "source": [
    "# Vizualização da quantidade de colunas nas tabelas 4 e 5\n",
    "print(len(df_4.columns))\n",
    "print(len(df_5.columns))"
   ]
  },
  {
   "cell_type": "code",
   "execution_count": null,
   "id": "3bcb9ee2",
   "metadata": {},
   "outputs": [],
   "source": [
    "# Vizualização da quantidade de linhas das tabelas\n",
    "print('df_4 len', len(df_4))\n",
    "print('df_5 len', len(df_5))"
   ]
  },
  {
   "cell_type": "code",
   "execution_count": null,
   "id": "abc10efe",
   "metadata": {},
   "outputs": [],
   "source": [
    "df_4.columns"
   ]
  },
  {
   "cell_type": "code",
   "execution_count": null,
   "id": "90f8cf29",
   "metadata": {},
   "outputs": [],
   "source": [
    "df_5.columns"
   ]
  },
  {
   "cell_type": "code",
   "execution_count": null,
   "id": "608b4ddb",
   "metadata": {},
   "outputs": [],
   "source": [
    "# Vizualização das 5 primeiras linhas da tabela 4\n",
    "df_4.head()"
   ]
  },
  {
   "cell_type": "code",
   "execution_count": null,
   "id": "ee6e2ce7",
   "metadata": {},
   "outputs": [],
   "source": [
    "# Vizualização das 5 primeiras linhas da tabela 5\n",
    "df_5.head()"
   ]
  },
  {
   "cell_type": "markdown",
   "id": "bef3a354",
   "metadata": {},
   "source": [
    "## Concatenação das tabelas 4 e 5\n",
    "Após a validação do tratamento das duas tabelas, é pertinente uni-las"
   ]
  },
  {
   "cell_type": "code",
   "execution_count": null,
   "id": "b94a0c55",
   "metadata": {},
   "outputs": [],
   "source": [
    "# União das duas tabelas em uma\n",
    "df_clean2 = pd.concat([df_4, df_5])"
   ]
  },
  {
   "cell_type": "markdown",
   "id": "365ee8cf",
   "metadata": {},
   "source": [
    "Ao concatener, foi somado 41560 linhas duplicadas, o mesmo comprimento das tabelas antes da junção"
   ]
  },
  {
   "cell_type": "code",
   "execution_count": null,
   "id": "cc5d4c64",
   "metadata": {},
   "outputs": [],
   "source": [
    "# Verificação de valores duplicados na tabela concatenada\n",
    "df_clean2.duplicated().sum()"
   ]
  },
  {
   "cell_type": "code",
   "execution_count": null,
   "id": "84fd716e",
   "metadata": {},
   "outputs": [],
   "source": [
    "# Eliminação de todas as linhas duplicadas\n",
    "df_clean2.drop_duplicates(inplace=True)"
   ]
  },
  {
   "cell_type": "code",
   "execution_count": null,
   "id": "02ff0e14",
   "metadata": {},
   "outputs": [],
   "source": [
    "# Validação da eliminação dos valores duplicados\n",
    "df_clean2.duplicated().sum()"
   ]
  },
  {
   "cell_type": "code",
   "execution_count": null,
   "id": "d25834af",
   "metadata": {},
   "outputs": [],
   "source": [
    "df_clean2.columns"
   ]
  },
  {
   "cell_type": "code",
   "execution_count": null,
   "id": "883fa446",
   "metadata": {},
   "outputs": [],
   "source": [
    "df_clean2['% DESCONTO/ACRÉSCIMO'].describe"
   ]
  },
  {
   "cell_type": "markdown",
   "id": "29bb5562",
   "metadata": {},
   "source": [
    "#### Conclusão\n",
    "Os dados da tabela 4 e 5 estão duplicados, uma vez que o a quantidade de valores duplicados é o mesmo que a quantidade de linhas das tabelas"
   ]
  },
  {
   "cell_type": "code",
   "execution_count": null,
   "id": "a196bd5d",
   "metadata": {},
   "outputs": [],
   "source": [
    "# Visualização das primeiras 5 colunas da tabela concatenada\n",
    "df_clean2.head()"
   ]
  },
  {
   "cell_type": "markdown",
   "id": "cdafb417",
   "metadata": {},
   "source": [
    "## Tratamento de dados após concatenar as tabelas\n",
    "A seguir, mudar o tipo de dado de object para int ou float. Para isso, coletar as colunas específicas"
   ]
  },
  {
   "cell_type": "code",
   "execution_count": null,
   "id": "183182f6",
   "metadata": {},
   "outputs": [],
   "source": [
    "# Coletar apenas colunas que tem valores como números porém tipo de dado como 'object'\n",
    "df_clean2[['EMPRESA',  'UN', 'VEÍCULO', 'AUTORIZAÇÃO', 'CLIENTE',\n",
    "       'SETOR', 'SUBSETOR', 'AGÊNCIA', 'CANAL DE VENDA', 'CONTRATO', 'VL TABELA',\n",
    "       'VL DESCONTO/ACRÉSCIMO', '% DESCONTO/ACRÉSCIMO', 'VL BRUTO',\n",
    "       'VL COMISSÃO', 'VL LÍQUIDO']].info()"
   ]
  },
  {
   "cell_type": "code",
   "execution_count": null,
   "id": "7660b7f0",
   "metadata": {},
   "outputs": [],
   "source": [
    "# Colunas para mudar o tipo do dado\n",
    "erase_comma = df_clean2[['VL TABELA', 'VL DESCONTO/ACRÉSCIMO', '% DESCONTO/ACRÉSCIMO', 'VL BRUTO', 'VL COMISSÃO', 'VL LÍQUIDO']]"
   ]
  },
  {
   "cell_type": "markdown",
   "id": "b03a0f72",
   "metadata": {},
   "source": [
    "#### Elimição das vírgulas para converter o tipo do dados\n",
    "É possível a a mudança do tipo de dado apenas quando os valores das colunas não tiverem vírgulas"
   ]
  },
  {
   "cell_type": "code",
   "execution_count": null,
   "id": "c167d3b6",
   "metadata": {},
   "outputs": [],
   "source": [
    "# Para cada coluna selecionada, trocar vírgula por ponto\n",
    "for column in erase_comma.columns:\n",
    "    df_clean2[column] = df_clean2[column].str.replace(',', '.')\n",
    "    df_clean2[column] = df_clean2[column].str.replace('-', '')\n",
    "    df_clean2[column] = pd.to_numeric(df_clean2[column], errors='coerce')"
   ]
  },
  {
   "cell_type": "code",
   "execution_count": null,
   "id": "ed37316b",
   "metadata": {},
   "outputs": [],
   "source": [
    "df_clean2['ANO'] = df_clean2['MÊS/ANO'].astype(str).str[:4].astype(int)\n",
    "df_clean2['MÊS'] = df_clean2['MÊS/ANO'].astype(str).str[4:].astype(int)\n",
    "df_clean2['DIA'] = 1\n",
    "df_to_datatime_4 = df_clean2[['ANO', 'MÊS', 'DIA']].rename(columns={'ANO': 'year', 'MÊS': 'month', 'DIA': 'day'})\n",
    "df_clean2['MÊS/ANO'] = pd.to_datetime(df_to_datatime_4)"
   ]
  },
  {
   "cell_type": "markdown",
   "id": "97372a8e",
   "metadata": {},
   "source": [
    "#### Verificação da convesão de dados\n"
   ]
  },
  {
   "cell_type": "code",
   "execution_count": null,
   "id": "e54230c7",
   "metadata": {},
   "outputs": [],
   "source": [
    "# Validação da conversão de dados\n",
    "df_clean2.info()"
   ]
  },
  {
   "cell_type": "markdown",
   "id": "ec38b70a",
   "metadata": {},
   "source": [
    "## Concact Tabela 3 e 1"
   ]
  },
  {
   "cell_type": "code",
   "execution_count": null,
   "id": "d8d08c20",
   "metadata": {},
   "outputs": [],
   "source": [
    "df_IPCA = df_1[['IPCA BR', 'IPCA ES', 'Taxa Ac. TRI % PIB', 'Data']]\n",
    "print('Antes do drop_duplicates', df_IPCA.duplicated().sum())\n",
    "df_IPCA.drop_duplicates(inplace=True)\n",
    "print('Depois do drop_duplicates',df_IPCA.duplicated().sum())"
   ]
  },
  {
   "cell_type": "code",
   "execution_count": null,
   "id": "74564e35",
   "metadata": {},
   "outputs": [],
   "source": [
    "df_IPCA.columns"
   ]
  },
  {
   "cell_type": "code",
   "execution_count": null,
   "id": "9278707c",
   "metadata": {},
   "outputs": [],
   "source": [
    "# Alinhamento dos IPCA's com suas respectivas linhas\n",
    "df = pd.merge(df_3, df_IPCA, on='Data', how='left')\n",
    "\n",
    "# Organização do Data Frame por Data\n",
    "df.sort_values(by=['Data'])\n",
    "\n",
    "# Eliminação de Colunas irrelevantes para a previsão do modelo\n",
    "df.drop(columns=['Segmento', 'Origem'], inplace=True)\n",
    "\n",
    "# Visualização dos valores nulos\n",
    "print('Valores Nulos:', df.isna().sum())\n",
    "\n",
    "# Eliminação de linhas com valores nulos\n",
    "df = df.dropna(subset=['Setor'])\n",
    "df = df.dropna(subset=['Desc %'])\n",
    "\n",
    "# Verificação de valores duplicados\n",
    "df[df.duplicated()]\n",
    "df.drop_duplicates(inplace=True)"
   ]
  },
  {
   "cell_type": "markdown",
   "id": "fe7a206c",
   "metadata": {},
   "source": [
    "## Concatenação"
   ]
  },
  {
   "cell_type": "code",
   "execution_count": null,
   "id": "ce5850bf",
   "metadata": {},
   "outputs": [],
   "source": [
    "df_clean2.drop(columns=['EMPRESA', 'NOME EMPRESA', 'UN', 'VEÍCULO', 'AUTORIZAÇÃO', 'DT AUTORIZAÇÃO', 'CLIENTE', 'NOME FANTASIA CLIENTE', 'GRUPO CLIENTE', 'SETOR', 'SUBSETOR', 'NOME SUBSETOR', 'AGÊNCIA', 'NOME AGÊNCIA', 'EQUIPE CV', 'CANAL DE VENDA', 'NOME CANAL DE VENDA', 'TÍTULO', 'É PATROCÍCIO', 'CONTRATO', 'DT INICIAL', 'DT FINAL', 'TIPO MÍDIA', 'DT EVENTO', 'TIPO PI', 'VL COMISSÃO', 'ANO', 'MÊS', 'DIA'], inplace=True)\n",
    "df_clean2 = df_clean2.rename(columns={'NOME UN': 'UEN', 'NOME VEÍCULO': 'Veiculo', 'MÊS/ANO': 'Data', \n",
    "                          'RAZÃO SOCIAL CLIENTE': 'Cliente','NOME SETOR': 'Setor', 'VL TABELA':'VL Tabela', \n",
    "                          'VL DESCONTO/ACRÉSCIMO':'Desconto R$', '% DESCONTO/ACRÉSCIMO':'Desc %', \n",
    "                          'VL BRUTO':'Vl Bruto', 'VL LÍQUIDO':'Vl Liquido Final'}, copy=False)\n",
    "print('Columns df_clean2:', df_clean2.columns)\n"
   ]
  },
  {
   "cell_type": "code",
   "execution_count": null,
   "id": "3762cd1d",
   "metadata": {},
   "outputs": [],
   "source": [
    "# Lista dos valores das Unidades de Negócios\n",
    "print(df_clean2['UEN'].value_counts())\n",
    "\n",
    "# Padronizando a escrita das Unidade de Negócios\n",
    "df_clean2['UEN'].replace('RADIO', 'Rádio', inplace=True)\n",
    "df_clean2['UEN'].replace('TELEVISAO', 'Televisão', inplace=True)\n",
    "df_clean2['UEN'].replace('JORNAL', 'Digital', inplace=True)\n",
    "df_clean2['UEN'].replace('DIGITAL', 'Digital', inplace=True)\n",
    "\n",
    "# Verificação da Padronização\n",
    "df_clean2['UEN'].value_counts()"
   ]
  },
  {
   "cell_type": "code",
   "execution_count": null,
   "id": "88d0c727",
   "metadata": {},
   "outputs": [],
   "source": [
    "df_6 = pd.read_csv('DadosEconomicos_ES_Inteli.xlsx-VarejoTotal.csv')\n",
    "df_6 = df_6[df_6['PMC - Variação mês/mês imediatamente anterior, com ajuste sazonal (M/M-1) (%)'] != '...']\n",
    "colunas_numericas = df_6.select_dtypes(include=['float64', 'int64']).columns\n",
    "outliers = {}\n",
    "for coluna in colunas_numericas:\n",
    "    Q1 = df_6[coluna].quantile(0.25)\n",
    "    Q3 = df_6[coluna].quantile(0.75)\n",
    "    IQR = Q3 - Q1\n",
    "    limite_inferior = Q1 - 1.5 * IQR\n",
    "    limite_superior = Q3 + 1.5 * IQR\n",
    "    \n",
    "    condicao = (df_6[coluna] < limite_inferior) | (df_6[coluna] > limite_superior)\n",
    "    outliers[coluna] = df_6[condicao]\n",
    "if any(not df.empty for df in outliers.values()):\n",
    "    for coluna, df_outlier in outliers.items():\n",
    "        if not df_outlier.empty:\n",
    "            styled = df_outlier.style.set_caption(f\"Outliers na coluna {coluna}\").set_table_styles([{\n",
    "                'selector': 'caption',\n",
    "                'props': [('color', 'red'), ('font-size', '16px')]\n",
    "            }]).highlight_null(color='yellow').background_gradient(cmap='viridis')\n",
    "            display(styled)\n",
    "else:\n",
    "    print(\"Não foram encontrados outliers em nenhuma coluna.\")"
   ]
  },
  {
   "cell_type": "code",
   "execution_count": null,
   "id": "803e618b",
   "metadata": {},
   "outputs": [],
   "source": [
    "meses_map = {\n",
    "    'jan.': 'Jan',\n",
    "    'fev.': 'Feb',\n",
    "    'mar.': 'Mar',\n",
    "    'abr.': 'Apr',\n",
    "    'mai.': 'May',\n",
    "    'jun.': 'Jun',\n",
    "    'jul.': 'Jul',\n",
    "    'ago.': 'Aug',\n",
    "    'set.': 'Sep',\n",
    "    'out.': 'Oct',\n",
    "    'nov.': 'Nov',\n",
    "    'dez.': 'Dec'\n",
    "}\n",
    "# Converter a coluna de data\n",
    "df_6['Data'] = pd.to_datetime(df_6['Mês'].replace(meses_map, regex=True).str.replace(r'(\\w+)-(\\d+)', \n",
    "                                                       lambda m: f\"01-{m.group(1)}-20{m.group(2)}\",\n",
    "                                                       regex=True),\n",
    "                            format='%d-%b-%Y', errors='coerce')\n",
    "# Formatar a data no novo formato padrão (YYYY-MM-DD)\n",
    "df_6['Data'] = df_6['Data'].dt.strftime('%Y-%m-%d')\n",
    "df_6.head()"
   ]
  },
  {
   "cell_type": "code",
   "execution_count": null,
   "id": "e8f68937",
   "metadata": {},
   "outputs": [],
   "source": [
    "df_pmc_br = df_6[df_6['Brasil e Unidade da Federação'] == 'Brasil']\n",
    "df_pmc_es = df_6[df_6['Brasil e Unidade da Federação'] == 'Espírito Santo']\n",
    "df_pmc_es = df_pmc_es.drop(columns=['Brasil e Unidade da Federação','Tipos de índice', 'Mês'])\n",
    "df_pmc_br = df_pmc_br.drop(columns=['Brasil e Unidade da Federação','Tipos de índice', 'Data', 'Mês'])\n"
   ]
  },
  {
   "cell_type": "code",
   "execution_count": null,
   "id": "df3292b9",
   "metadata": {},
   "outputs": [],
   "source": [
    "df_pmc_es.rename(columns={'PMC - Número-índice (2022=100) (Número-índice)': 'PMC - Número-índice (2022=100) (Número-índice)/ ES'}, inplace=True)\n",
    "df_pmc_es.rename(columns={'PMC - Número-índice com ajuste sazonal (2022=100) (Número-índice)': 'PMC - Número-índice com ajuste sazonal (2022=100) (Número-índice)/ ES'}, inplace=True)\n",
    "df_pmc_es.rename(columns={'PMC - Variação mês/mês imediatamente anterior, com ajuste sazonal (M/M-1) (%)': 'PMC - Variação mês/mês imediatamente anterior, com ajuste sazonal (M/M-1) (%)/ ES'}, inplace=True)\n",
    "df_pmc_br.rename(columns={'PMC - Número-índice (2022=100) (Número-índice)': 'PMC - Número-índice (2022=100) (Número-índice)/ BR'}, inplace=True)\n",
    "df_pmc_br.rename(columns={'PMC - Número-índice com ajuste sazonal (2022=100) (Número-índice)': 'PMC - Número-índice com ajuste sazonal (2022=100) (Número-índice)/ BR'}, inplace=True)\n",
    "df_pmc_br.rename(columns={'PMC - Variação mês/mês imediatamente anterior, com ajuste sazonal (M/M-1) (%)': 'PMC - Variação mês/mês imediatamente anterior, com ajuste sazonal (M/M-1) (%)/ BR'}, inplace=True)\n",
    "df_pmc_es = df_pmc_es.reset_index() \n",
    "df_pmc_br = df_pmc_br.reset_index()\n",
    "df_combined = pd.concat([df_pmc_es, df_pmc_br], axis=1)\n",
    "df_combined = df_combined.drop(columns=['index'])\n",
    "\n",
    "df_combined = df_combined[['PMC - Número-índice (2022=100) (Número-índice)/ ES',\n",
    "                           'PMC - Número-índice (2022=100) (Número-índice)/ BR',\n",
    "                           'PMC - Número-índice com ajuste sazonal (2022=100) (Número-índice)/ ES',\n",
    "                           'PMC - Número-índice com ajuste sazonal (2022=100) (Número-índice)/ BR',\n",
    "                           'PMC - Variação mês/mês imediatamente anterior, com ajuste sazonal (M/M-1) (%)/ ES',\n",
    "                           'PMC - Variação mês/mês imediatamente anterior, com ajuste sazonal (M/M-1) (%)/ BR',\n",
    "                           'Data']]\n",
    "\n",
    "df_6 = df_combined\n"
   ]
  },
  {
   "cell_type": "code",
   "execution_count": null,
   "id": "c9115673",
   "metadata": {},
   "outputs": [],
   "source": [
    "df_6['Data'] = pd.to_datetime(df_6['Data'])"
   ]
  },
  {
   "cell_type": "code",
   "execution_count": null,
   "id": "d61527b7",
   "metadata": {},
   "outputs": [],
   "source": [
    "df = pd.merge(df, df_6, on='Data', how='left')"
   ]
  },
  {
   "cell_type": "code",
   "execution_count": null,
   "id": "c1d5f957",
   "metadata": {},
   "outputs": [],
   "source": [
    "erase_comma_df = df[['PMC - Número-índice (2022=100) (Número-índice)/ ES', 'PMC - Número-índice (2022=100) (Número-índice)/ BR', 'PMC - Número-índice com ajuste sazonal (2022=100) (Número-índice)/ ES', 'PMC - Número-índice com ajuste sazonal (2022=100) (Número-índice)/ BR', 'PMC - Variação mês/mês imediatamente anterior, com ajuste sazonal (M/M-1) (%)/ ES', 'PMC - Variação mês/mês imediatamente anterior, com ajuste sazonal (M/M-1) (%)/ BR']]"
   ]
  },
  {
   "cell_type": "code",
   "execution_count": null,
   "id": "399745cf",
   "metadata": {},
   "outputs": [],
   "source": [
    "# Para cada coluna selecionada, trocar vírgula por ponto\n",
    "for column in erase_comma_df.columns:\n",
    "    df[column] = df[column].str.replace(',', '.')\n",
    "    df[column] = pd.to_numeric(df[column], errors='coerce')"
   ]
  },
  {
   "cell_type": "code",
   "execution_count": null,
   "id": "44d5af7d",
   "metadata": {},
   "outputs": [],
   "source": [
    "df.head()"
   ]
  },
  {
   "cell_type": "markdown",
   "id": "831d8d09",
   "metadata": {},
   "source": [
    "## Validação da Tabela "
   ]
  },
  {
   "cell_type": "code",
   "execution_count": null,
   "id": "ad6728e5",
   "metadata": {},
   "outputs": [],
   "source": [
    "df_receita = pd.read_csv('BASE INTELI_META_OCUP.csv')"
   ]
  },
  {
   "cell_type": "code",
   "execution_count": null,
   "id": "c28196e7",
   "metadata": {},
   "outputs": [],
   "source": [
    "df_receita['% Ating. Meta'] = df_receita['% Ating. Meta'].str.replace('%', '')\n",
    "df_receita['% Ating. Meta'] = pd.to_numeric(df_receita['% Ating. Meta'])\n",
    "df_receita['% Ating. Meta'] = df_receita['% Ating. Meta']/100"
   ]
  },
  {
   "cell_type": "code",
   "execution_count": null,
   "id": "63e3c320",
   "metadata": {},
   "outputs": [],
   "source": [
    "df_receita['Meta'] = df_receita['Meta'].str.replace('.', '')\n",
    "df_receita['Meta'] = pd.to_numeric(df_receita['Meta'])\n",
    "df_receita['Receita'] = df_receita['Meta'] * df_receita['% Ating. Meta']"
   ]
  },
  {
   "cell_type": "code",
   "execution_count": null,
   "id": "328191e0",
   "metadata": {},
   "outputs": [],
   "source": [
    "for index, mes in enumerate(df_receita['Mês'].unique()):\n",
    "    df_receita.loc[df_receita['Mês'] == mes, 'Mês'] = index + 1\n",
    "df_receita.insert(2, 'Dia', 1)\n",
    "df_receita['Ano'] = pd.to_numeric(df_receita['Ano'], errors='coerce')\n",
    "df_receita.rename(columns={'Ano': 'year', 'Mês': 'month', 'Dia': 'day'}, inplace=True)\n",
    "df_receita.insert(0, 'Data', pd.to_datetime(df_receita[['year', 'month', 'day']]))"
   ]
  },
  {
   "cell_type": "code",
   "execution_count": null,
   "id": "624e6311",
   "metadata": {},
   "outputs": [],
   "source": [
    "from math import sqrt\n",
    "df.sort_values(['Data'])\n",
    "df_receita.sort_values(['Data'])\n",
    "resultados = []\n",
    "for uen in df['UEN'].unique():\n",
    "    for data in df['Data'].astype(str).str[:7].unique():\n",
    "        # Soma das receitas da tabela tratada\n",
    "        receita_por_veiculo = df.loc[(df['UEN'] == uen) & (df['Data'].astype(str).str[:7] == data), 'Vl Liquido Final'].sum()\n",
    "        # Receita real por veículo/mês/ano\n",
    "        receita_por_veiculo_real = df_receita.loc[(df_receita['Uen'] == uen) & (df_receita['Data'].astype(str).str[:7] == data), 'Receita'].values\n",
    "        # Condição para validar a equivalência dos valores\n",
    "        resultados.append({\n",
    "            'Data': data,\n",
    "            'UEN': uen,\n",
    "            'Receita Prevista': receita_por_veiculo,\n",
    "            'Receita Real': np.round(receita_por_veiculo_real, decimals=0),\n",
    "            'Diferença': np.round(receita_por_veiculo_real - receita_por_veiculo, decimals=0)\n",
    "        })\n",
    "df_validacao = pd.DataFrame(resultados)\n"
   ]
  },
  {
   "cell_type": "code",
   "execution_count": null,
   "id": "d1b1b614",
   "metadata": {},
   "outputs": [],
   "source": [
    "df_validacao.sort_values(by=['Data']).reset_index().drop(columns=['index'])\n",
    "df_validacao.sort_values(by=['Data'])"
   ]
  },
  {
   "cell_type": "code",
   "execution_count": null,
   "id": "3f1a9070",
   "metadata": {},
   "outputs": [],
   "source": [
    "df.head()"
   ]
  },
  {
   "cell_type": "markdown",
   "id": "d2d70a7b",
   "metadata": {},
   "source": [
    "## Plotagem dos gráficos "
   ]
  },
  {
   "cell_type": "markdown",
   "id": "df513173",
   "metadata": {},
   "source": [
    "### Definição de coluna Categórica e Numérica"
   ]
  },
  {
   "cell_type": "markdown",
   "id": "b59ad39d",
   "metadata": {},
   "source": [
    "### Introdução\n",
    "O gráfico de pizza apresentado a seguir ilustra a distribuição das colunas de um DataFrame em duas categorias principais: \"Numérico\" e \"Categórico\". O objetivo é visualizar a proporção de variáveis de diferentes tipos de dados presentes no conjunto de dados, permitindo uma compreensão clara da composição dos dados para futuras análises e modelagens. Colunas categóricas representam variáveis qualitativas, enquanto colunas numéricas representam variáveis quantitativas."
   ]
  },
  {
   "cell_type": "markdown",
   "id": "8986a28e",
   "metadata": {},
   "source": [
    "\n",
    "### Colunas Categóricas\n",
    "\n",
    "As colunas categóricas são aquelas que contêm dados de tipo `object`, representando variáveis qualitativas que indicam diferentes categorias ou rótulos. As colunas categóricas identificadas no DataFrame são:\n",
    "\n",
    "- **UEN**: Unidade de Negócio.\n",
    "- **Veiculo**: Tipo ou nome do veículo utilizado.\n",
    "- **Cliente**: Nome do cliente.\n",
    "- **Setor**: Setor econômico ou categoria a que pertence o cliente.\n",
    "- **Data**: Data, tratada aqui como uma categoria ao invés de um valor temporal.\n",
    "\n",
    "### Colunas Numéricas\n",
    "\n",
    "As colunas numéricas são aquelas que contêm dados de tipos numéricos (`int`, `float`, etc.), representando variáveis quantitativas que podem ser usadas para cálculos matemáticos ou análises estatísticas. As colunas numéricas identificadas no DataFrame são:\n",
    "\n",
    "- **VL Tabela**: Valor na Tabela.\n",
    "- **Desconto R$**: Valor de desconto em reais.\n",
    "- **Desc %**: Desconto em porcentagem.\n",
    "- **Vl Bruto**: Valor bruto antes de descontos.\n",
    "- **Vl Liquido Final**: Valor líquido após todos os descontos.\n",
    "- **IPCA BR**: Índice de Preços ao Consumidor Amplo (Brasil).\n",
    "- **IPCA ES**: Índice de Preços ao Consumidor Amplo (Espírito Santo).\n",
    "- **Taxa Ac. TRI % PIB**: Taxa acumulada trimestral do PIB em porcentagem.\n",
    "- **PMC - Número-índice (2022=100) (Número-índice)/ ES**: Índice de produção e consumo com base em 2022 para o Espírito Santo.\n",
    "- **PMC - Número-índice (2022=100) (Número-índice)/ BR**: Índice de produção e consumo com base em 2022 para o Brasil.\n",
    "- **PMC - Número-índice com ajuste sazonal (2022=100) (Número-índice)/ ES**: Índice de produção e consumo ajustado sazonalmente para o Espírito Santo.\n",
    "- **PMC - Número-índice com ajuste sazonal (2022=100) (Número-índice)/ BR**: Índice de produção e consumo ajustado sazonalmente para o Brasil.\n",
    "- **PMC - Variação mês/mês imediatamente anterior, com ajuste sazonal (M/M-1) (%)/ ES**: Variação mensal ajustada sazonalmente para o Espírito Santo.\n",
    "- **PMC - Variação mês/mês imediatamente anterior, com ajuste sazonal (M/M-1) (%)/ BR**: Variação mensal ajustada sazonalmente para o Brasil.\n",
    "- **Ano**: Ano de referência.\n"
   ]
  },
  {
   "cell_type": "code",
   "execution_count": null,
   "id": "e21a1b56",
   "metadata": {},
   "outputs": [],
   "source": [
    "import matplotlib.colors as mcolors\n",
    "# Definição das colunas\n",
    "categorias = ['Numerico','Categorico']\n",
    "Nomecategorico = []\n",
    "NomeNumerico = []\n",
    "for column in df.columns:\n",
    "    if df[column].dtype == 'object':\n",
    "        Nomecategorico.append(column)\n",
    "    else:\n",
    "        NomeNumerico.append(column)\n",
    "Nomecategorico.append('Data')\n",
    "\n",
    "categorico = df[Nomecategorico]\n",
    "numerico = df[NomeNumerico]\n",
    "\n",
    "\n",
    "\n",
    "\n",
    "# Dados para as categorias principais\n",
    "categorias = ['Numérico', 'Categórico']\n",
    "valores_categorias = [len(numerico.columns), len(categorico.columns)]\n",
    "\n",
    "# Dados para as subcategorias\n",
    "subcategorias = numerico.columns.tolist() + categorico.columns.tolist()\n",
    "valores_subcategorias = [1] * len(subcategorias)\n",
    "\n",
    "# Cores para as categorias principais e subcategorias\n",
    "cores_categorias = ['#FF0000', '#0000FF']  # Vermelho para Numérico, Azul para Categórico\n",
    "cores_subcategorias = [\n",
    "    mcolors.to_rgba('#FF0000', alpha=0.6)] * len(numerico.columns) + \\\n",
    "    [mcolors.to_rgba('#0000FF', alpha=0.6)] * len(categorico.columns)\n",
    "\n",
    "# Tamanho da figura (aumentado para 22 x 14)\n",
    "fig, ax = plt.subplots(figsize=(22, 14))\n",
    "\n",
    "# Gráfico das categorias principais\n",
    "p1 = ax.pie(valores_categorias, \n",
    "            radius=1.2,\n",
    "            labels=categorias,\n",
    "            wedgeprops=dict(edgecolor='white'),\n",
    "            colors=cores_categorias,\n",
    "            textprops=dict(color=\"black\", fontweight=\"bold\"))\n",
    "\n",
    "# Gráfico das subcategorias (nomes das colunas)\n",
    "p2 = ax.pie(valores_subcategorias,\n",
    "            radius=1,  # Aumentando o raio interno para criar mais espaço\n",
    "            labels=subcategorias,\n",
    "            autopct=None,\n",
    "            colors=cores_subcategorias,\n",
    "            labeldistance=0.6,  # Aumentando a distância do texto para melhorar o encaixe\n",
    "            wedgeprops=dict(edgecolor='white'), \n",
    "            pctdistance=0.75,  \n",
    "            rotatelabels=True,\n",
    "            textprops=dict(color=\"white\", fontweight=\"bold\"))\n",
    "\n",
    "# Limpa o centro do círculo\n",
    "centre_circle = plt.Circle((0, 0), 0.5, fc='white')  # Reduzindo o círculo central para mais espaço\n",
    "\n",
    "# Adiciona o círculo central\n",
    "fig = plt.gcf()\n",
    "fig.gca().add_artist(centre_circle)\n",
    "\n",
    "# Título\n",
    "plt.title('Distribuição das Colunas entre Numérico e Categórico')\n",
    "\n",
    "# Adiciona a legenda\n",
    "plt.legend(labels=['Numérico', 'Categórico'], loc='upper right', fontsize=14)\n",
    "\n",
    "plt.show()\n",
    "\n",
    "\n"
   ]
  },
  {
   "cell_type": "markdown",
   "id": "7a490b1b",
   "metadata": {},
   "source": [
    "### Conclusão\n",
    "O gráfico de pizza evidencia a predominância de colunas numéricas no conjunto de dados em relação às colunas categóricas. Essa predominância indica que o DataFrame é composto majoritariamente por variáveis quantitativas, o que é útil em análises que envolvem cálculos matemáticos, modelagem estatística e aprendizado de máquina."
   ]
  },
  {
   "cell_type": "markdown",
   "id": "0ed6e184",
   "metadata": {},
   "source": [
    "### Matriz de Corelação"
   ]
  },
  {
   "cell_type": "code",
   "execution_count": null,
   "id": "16189260",
   "metadata": {},
   "outputs": [],
   "source": [
    "df_analise = df\n",
    "df_analise = df_analise.drop(['Desconto R$', 'Desc %'], axis=1)\n",
    "\n",
    "df_analise_radio = df_analise[df_analise['UEN'] == 'Rádio']\n",
    "df_analise_televisao = df_analise[df_analise['UEN'] == 'Televisão']\n",
    "df_analise_digital = df_analise[df_analise['UEN'] == 'Digital']\n"
   ]
  },
  {
   "cell_type": "code",
   "execution_count": null,
   "id": "14ce0a2a",
   "metadata": {},
   "outputs": [],
   "source": [
    "\n",
    "# Agrupamento mensal por 'Cliente' mantendo o 'Setor'\n",
    "df_analise_radio = df_analise_radio.groupby([pd.Grouper(key='Data', freq='M'), 'Cliente', 'Setor']).agg({\n",
    "    'VL Tabela': 'sum',\n",
    "    'Vl Bruto': 'sum',\n",
    "    'Vl Liquido Final': 'sum',\n",
    "    'IPCA BR': 'mean',\n",
    "    'IPCA ES': 'mean',\n",
    "    'Taxa Ac. TRI % PIB': 'mean',\n",
    "    'PMC - Número-índice (2022=100) (Número-índice)/ ES': 'mean',\n",
    "    'PMC - Número-índice (2022=100) (Número-índice)/ BR': 'mean',\n",
    "    'PMC - Número-índice com ajuste sazonal (2022=100) (Número-índice)/ ES': 'mean',\n",
    "    'PMC - Número-índice com ajuste sazonal (2022=100) (Número-índice)/ BR': 'mean',\n",
    "    'PMC - Variação mês/mês imediatamente anterior, com ajuste sazonal (M/M-1) (%)/ ES': 'mean',\n",
    "    'PMC - Variação mês/mês imediatamente anterior, com ajuste sazonal (M/M-1) (%)/ BR': 'mean'\n",
    "}).reset_index()\n"
   ]
  },
  {
   "cell_type": "code",
   "execution_count": null,
   "id": "29b03799",
   "metadata": {},
   "outputs": [],
   "source": [
    "df_analise_radio.head()"
   ]
  },
  {
   "cell_type": "code",
   "execution_count": null,
   "id": "5fa86356",
   "metadata": {},
   "outputs": [],
   "source": [
    "df_analise_radio.info()"
   ]
  },
  {
   "cell_type": "code",
   "execution_count": null,
   "id": "57d1a4ca",
   "metadata": {},
   "outputs": [],
   "source": [
    "df_analise_radio_numericos = df_analise_radio.drop(['Data', 'Cliente', 'Setor'], axis=1)\n"
   ]
  },
  {
   "cell_type": "code",
   "execution_count": null,
   "id": "3b46d53e",
   "metadata": {},
   "outputs": [],
   "source": [
    "correlation_matrix = df_analise_radio_numericos.corr()\n",
    "\n",
    "# Configura o tamanho da figura\n",
    "plt.figure(figsize=(12, 8))\n",
    "\n",
    "# Cria o heatmap usando seaborn\n",
    "sns.heatmap(correlation_matrix, \n",
    "            annot=True,           # Mostra os valores na matriz\n",
    "            fmt=\".2f\",            # Formato dos números\n",
    "            cmap='coolwarm',      # Escolhe a paleta de cores\n",
    "            linewidths=0.5,       # Largura das linhas que separam os quadrados\n",
    "            square=True,          # Quadrados perfeitos\n",
    "            cbar_kws={\"shrink\": .75})  # Ajuste do tamanho da barra de cores\n",
    "\n",
    "# Título do gráfico\n",
    "plt.title('Matriz de Correlação - Análise Rádio', fontsize=16)\n",
    "\n",
    "# Exibe o gráfico\n",
    "plt.show()"
   ]
  },
  {
   "cell_type": "code",
   "execution_count": null,
   "id": "b04674e5",
   "metadata": {},
   "outputs": [],
   "source": [
    "df_analise_radio_mes = df_analise_radio.drop(['Cliente', 'Setor'], axis=1)\n",
    "\n",
    "# Agrupamento mensal pela coluna 'Data' e aplicação das funções de agregação\n",
    "df_grouped = df_analise_radio_mes.groupby(pd.Grouper(key='Data', freq='M')).agg({\n",
    "    'VL Tabela': 'sum',  # Soma dos valores financeiros\n",
    "    'Vl Bruto': 'sum',   \n",
    "    'Vl Liquido Final': 'sum',\n",
    "    'IPCA BR': 'mean',   # Média dos indicadores econômicos\n",
    "    'IPCA ES': 'mean',\n",
    "    'Taxa Ac. TRI % PIB': 'mean',\n",
    "    'PMC - Número-índice (2022=100) (Número-índice)/ ES': 'mean',\n",
    "    'PMC - Número-índice (2022=100) (Número-índice)/ BR': 'mean',\n",
    "    'PMC - Número-índice com ajuste sazonal (2022=100) (Número-índice)/ ES': 'mean',\n",
    "    'PMC - Número-índice com ajuste sazonal (2022=100) (Número-índice)/ BR': 'mean',\n",
    "    'PMC - Variação mês/mês imediatamente anterior, com ajuste sazonal (M/M-1) (%)/ ES': 'mean',\n",
    "    'PMC - Variação mês/mês imediatamente anterior, com ajuste sazonal (M/M-1) (%)/ BR': 'mean'\n",
    "}).reset_index()\n"
   ]
  },
  {
   "cell_type": "code",
   "execution_count": null,
   "id": "4b8da3de",
   "metadata": {},
   "outputs": [],
   "source": [
    "df_grouped.head()"
   ]
  },
  {
   "cell_type": "code",
   "execution_count": null,
   "id": "0f0dcf85",
   "metadata": {},
   "outputs": [],
   "source": [
    "df_grouped.info()"
   ]
  },
  {
   "cell_type": "code",
   "execution_count": null,
   "id": "a65789be",
   "metadata": {},
   "outputs": [],
   "source": [
    "df_grouped_numeric = df_grouped.drop(['Data'], axis=1)\n",
    "correlation_matrix = df_grouped_numeric.corr()\n",
    "\n",
    "# Configura o tamanho da figura\n",
    "plt.figure(figsize=(12, 8))\n",
    "\n",
    "# Cria o heatmap usando seaborn\n",
    "sns.heatmap(correlation_matrix, \n",
    "            annot=True,           # Mostra os valores na matriz\n",
    "            fmt=\".2f\",            # Formato dos números\n",
    "            cmap='coolwarm',      # Escolhe a paleta de cores\n",
    "            linewidths=0.5,       # Largura das linhas que separam os quadrados\n",
    "            square=True,          # Quadrados perfeitos\n",
    "            cbar_kws={\"shrink\": .75})  # Ajuste do tamanho da barra de cores\n",
    "\n",
    "# Título do gráfico\n",
    "plt.title('Matriz de Correlação - Análise Rádio', fontsize=16)\n",
    "\n",
    "# Exibe o gráfico\n",
    "plt.show()"
   ]
  },
  {
   "cell_type": "code",
   "execution_count": null,
   "id": "81aa0d32",
   "metadata": {},
   "outputs": [],
   "source": [
    "import matplotlib.pyplot as plt\n"
   ]
  },
  {
   "cell_type": "code",
   "execution_count": null,
   "id": "5ad52172",
   "metadata": {},
   "outputs": [],
   "source": [
    "fig, ax1 = plt.subplots(figsize=(10, 6))\n",
    "\n",
    "# Plot do primeiro eixo y (Vl Liquido Final)\n",
    "ax1.plot(df_grouped['Data'], df_grouped['Vl Liquido Final'], color='blue', marker='o', label='Vl Liquido Final')\n",
    "ax1.set_xlabel('Data')  # Rótulo do eixo x\n",
    "ax1.set_ylabel('Vl Liquido Final', color='blue')  # Rótulo do eixo y esquerdo\n",
    "ax1.tick_params(axis='y', labelcolor='blue')  # Cor dos rótulos do eixo y esquerdo\n",
    "\n",
    "# Criação do segundo eixo y\n",
    "ax2 = ax1.twinx()\n",
    "ax2.plot(df_grouped['Data'], df_grouped['IPCA ES'], color='red', marker='x', label='IPCA ES')\n",
    "ax2.set_ylabel('IPCA ES', color='red')  # Rótulo do eixo y direito\n",
    "ax2.tick_params(axis='y', labelcolor='red')  # Cor dos rótulos do eixo y direito\n",
    "\n",
    "# Título do gráfico\n",
    "plt.title('Vl Liquido Final vs IPCA ES ao longo do Tempo')\n",
    "\n",
    "# Legendas\n",
    "ax1.legend(loc='upper left')\n",
    "ax2.legend(loc='upper right')\n",
    "\n",
    "# Exibe o gráfico\n",
    "plt.show()"
   ]
  },
  {
   "cell_type": "markdown",
   "id": "7c6b1b15",
   "metadata": {},
   "source": [
    "### Plotagem de gráficos de Clientes por frequência"
   ]
  },
  {
   "cell_type": "code",
   "execution_count": null,
   "id": "b7243021",
   "metadata": {},
   "outputs": [],
   "source": [
    "client_counts = df['Cliente'].value_counts()\n",
    "top_clients = client_counts.head(20)\n",
    "\n",
    "# Configuração do gráfico\n",
    "plt.figure(figsize=(22, 12))\n",
    "\n",
    "# Gerar cores diferentes para cada cliente\n",
    "colors = plt.cm.get_cmap('tab20', len(top_clients))\n",
    "\n",
    "# Criar o gráfico de barras\n",
    "bars = plt.bar(range(len(top_clients)), top_clients, color=colors(range(len(top_clients))))\n",
    "\n",
    "# Título e rótulos\n",
    "plt.title('Top 20 Clientes por Frequência', fontsize=16)\n",
    "plt.xlabel('Clientes', fontsize=14)\n",
    "plt.ylabel('Contagem de Frequência', fontsize=14)\n",
    "plt.xticks(ticks=range(len(top_clients)), labels=['']*len(top_clients), fontsize=12)\n",
    "\n",
    "# Adicionar uma legenda abaixo do gráfico\n",
    "plt.legend(bars, top_clients.index, title=\"Clientes\", bbox_to_anchor=(0.5, -0.15), loc='upper center', ncol=4, fontsize=12)\n",
    "\n",
    "# Ajustar o layout\n",
    "plt.tight_layout()\n",
    "plt.show()"
   ]
  },
  {
   "cell_type": "markdown",
   "id": "25e69fcb",
   "metadata": {},
   "source": [
    "#### Conclusão: Recorrência de Clientes nas Campanhas Publicitárias\n",
    "A análise dos gráficos revela a presença significativa de clientes recorrentes que investem em diversas campanhas publicitárias simultaneamente em diferentes veículos e Unidades de Negócio ao longo de um mesmo mês. Essa recorrência destaca a confiança desses clientes na eficácia das estratégias de publicidade oferecidas, bem como a importância de manter um relacionamento contínuo e estratégico com esses parceiros."
   ]
  },
  {
   "cell_type": "code",
   "execution_count": null,
   "id": "4dd36d27",
   "metadata": {},
   "outputs": [],
   "source": [
    "df[df['Cliente'] == 'SUPERINTENDENCIA ESTADUAL DE COMUNICACAO']"
   ]
  },
  {
   "cell_type": "markdown",
   "id": "a6d61846",
   "metadata": {},
   "source": [
    "### Plotagem de gráficos de Frequência de um Setor por UEN\n",
    "aqui podemos observar que existe uma tendência a um determinado setor ser mais predominante naquele UEN"
   ]
  },
  {
   "cell_type": "code",
   "execution_count": null,
   "id": "576fbd30",
   "metadata": {},
   "outputs": [],
   "source": [
    "import matplotlib.pyplot as plt\n",
    "import seaborn as sns\n",
    "\n",
    "# Gerando o DataFrame com as contagens para cada UEN e Setor\n",
    "df_counts = df.groupby(['UEN', 'Setor']).size().reset_index(name='counts')\n",
    "\n",
    "# Garantindo que cada UEN tenha 10 setores representados, mesmo em caso de empate\n",
    "df_counts = df_counts.groupby('UEN').apply(lambda x: x.nlargest(10, 'counts', keep='all')).reset_index(drop=True)\n",
    "\n",
    "# Paleta de cores personalizada para garantir que as cores sejam consistentes entre os gráficos\n",
    "unique_setores = df_counts['Setor'].unique()\n",
    "palette = dict(zip(unique_setores, sns.color_palette(\"tab20\", len(unique_setores))))\n",
    "\n",
    "# Iterando sobre cada UEN e criando um gráfico separado\n",
    "for uen, group_data in df_counts.groupby('UEN'):\n",
    "    plt.figure(figsize=(9, 8))\n",
    "    \n",
    "    # Criando o gráfico de barras\n",
    "    ax = sns.barplot(x='Setor', y='counts', data=group_data, palette=palette)\n",
    "    \n",
    "    # Adicionando os rótulos em cima das barras\n",
    "    for p in ax.patches:\n",
    "        ax.annotate(format(p.get_height(), '.0f'),\n",
    "                    (p.get_x() + p.get_width() / 2., p.get_height()-50),\n",
    "                    ha = 'center', va = 'center',\n",
    "                    xytext = (0, 9), textcoords = 'offset points')\n",
    "    \n",
    "    # Adicionando o nome do Setor abaixo da barra\n",
    "    ax.set_xticks(range(len(group_data['Setor'])))\n",
    "    ax.set_xticklabels(group_data['Setor'], rotation=45, ha='right')\n",
    "\n",
    "    # Configurações adicionais de título e formatação\n",
    "    ax.set_xlabel('Setores')\n",
    "    ax.set_ylabel('Contagem de Frequência')\n",
    "    ax.set_title(f'UEN: {uen}', size=16, weight='semibold')\n",
    "\n",
    "    # Ajustando o layout\n",
    "    plt.tight_layout()\n",
    "\n",
    "    # Exibir o gráfico\n",
    "    plt.show()\n"
   ]
  },
  {
   "cell_type": "markdown",
   "id": "85882b8e",
   "metadata": {},
   "source": [
    "\n",
    "#### Conclusão: Predominância do Setor de Loja Varejista/Atacado\n",
    "A análise dos gráficos revela um domínio claro do setor de Loja Varejista/Atacado na maioria das Unidades de Negócio da Rede Gazeta. Este setor lidera em quase todas as áreas, exceto no Digital, onde os Prestadores de Serviços assumem a liderança. Essa predominância sugere que a maior parte das campanhas publicitárias da Rede Gazeta é direcionada a clientes do setor varejista, refletindo a importância desse segmento na estratégia comercial da empresa.\n",
    "\n",
    "A concentração de campanhas publicitárias voltadas para o setor de varejo indica uma demanda significativa e uma dependência estratégica desse segmento para a geração de receita. Esse comportamento pode ser explicado pela grande presença e relevância do varejo no mercado local, além de sua capacidade de investir em publicidade para alcançar um público amplo e diversificado.\n",
    "\n",
    "Por outro lado, o destaque dos Prestadores de Serviços no setor Digital sugere uma tendência diferente nesse canal, possivelmente ligada à natureza dos serviços oferecidos e à necessidade de uma presença online mais forte e direcionada. Esse dado ressalta a importância de uma abordagem diferenciada para o segmento de serviços, especialmente em plataformas digitais.\n",
    "\n",
    "Compreender essa distribuição setorial permite à Rede Gazeta ajustar suas estratégias de marketing e vendas de acordo com as necessidades e comportamentos específicos de cada setor. Além disso, identificar áreas de menor presença pode abrir oportunidades para expandir a atuação em outros segmentos, diversificando o portfólio de clientes e reduzindo a dependência de um único setor."
   ]
  },
  {
   "cell_type": "code",
   "execution_count": null,
   "id": "d81315a7",
   "metadata": {},
   "outputs": [],
   "source": [
    "dados = {\n",
    "    'Mês': [],\n",
    "    'Receita Líquida': []\n",
    "}\n",
    "for mes in df['Data'].astype(str).str[:7].unique():\n",
    "    receita_mes = df['Vl Liquido Final'].where(df['Data'].astype(str).str[:7] == mes)\n",
    "    receita_mes_total = receita_mes.sum()\n",
    "    dados['Mês'].append(mes)\n",
    "    dados['Receita Líquida'].append(receita_mes_total)\n",
    "dados = pd.DataFrame(dados)\n",
    "dados['Mês'] = pd.to_datetime(dados['Mês'], format='%Y-%m')\n",
    "dados = dados.sort_values('Mês').reset_index(drop=True)\n",
    "# Adicionando a coluna 'Ano' para facilitar a diferenciação\n",
    "dados['Ano'] = dados['Mês'].dt.year\n",
    "# Plotando o gráfico com cores diferentes para cada ano\n",
    "plt.figure(figsize=(12, 6))\n",
    "sns.lineplot(data=dados, x='Mês', y='Receita Líquida', hue='Ano', palette='tab10', marker='o')\n",
    "# Configurações do gráfico\n",
    "plt.title('Variação da Receita Mês a Mês')\n",
    "plt.xlabel('Mês')\n",
    "plt.ylabel('Receita Líquida em R$5.000.000')\n",
    "plt.grid(True)\n",
    "plt.yticks(np.arange(0, dados['Receita Líquida'].max(), 5000000))\n",
    "plt.xticks(rotation=45)\n",
    "plt.tight_layout()\n",
    "# Adicionando as linhas verticais de mudança de ano\n",
    "for i, row in dados.iterrows():\n",
    "    if i > 0 and row['Ano'] != dados.loc[i-1, 'Ano']:\n",
    "        plt.axvline(x=row['Mês'], color='red', linestyle='--')\n",
    "plt.legend(title='Ano')\n",
    "plt.show()"
   ]
  },
  {
   "cell_type": "code",
   "execution_count": null,
   "id": "a3def6e6",
   "metadata": {},
   "outputs": [],
   "source": [
    "veiculos = df['UEN'].unique()\n",
    "for veiculo in veiculos:\n",
    "    dados_veiculo = {\n",
    "        'Mês': [],\n",
    "        'Receita Líquida': []\n",
    "    }\n",
    "    for mes in df['Data'].astype(str).str[:7].unique():\n",
    "        receita_mes = df.loc[df['UEN'] == veiculo, 'Vl Liquido Final'].where(df['Data'].astype(str).str[:7] == mes)\n",
    "        receita_mes_total = receita_mes.sum()\n",
    "        dados_veiculo['Mês'].append(mes)\n",
    "        dados_veiculo['Receita Líquida'].append(receita_mes_total)\n",
    "    dados_veiculo = pd.DataFrame(dados_veiculo)\n",
    "    dados_veiculo['Mês'] = pd.to_datetime(dados_veiculo['Mês'], format='%Y-%m')\n",
    "    dados_veiculo = dados_veiculo.sort_values('Mês').reset_index(drop=True)\n",
    "    # Adicionando a coluna 'Ano' para facilitar a diferenciação\n",
    "    dados_veiculo['Ano'] = dados_veiculo['Mês'].dt.year\n",
    "    # Plotando o gráfico para o veículo específico\n",
    "    plt.figure(figsize=(12, 6))\n",
    "    sns.lineplot(data=dados_veiculo, x='Mês', y='Receita Líquida', hue='Ano', palette='tab10', marker='o')\n",
    "    # Configurações do gráfico\n",
    "    plt.title(f'Variação da Receita Mês a Mês para o Veículo: {veiculo}')\n",
    "    plt.xlabel('Mês')\n",
    "    plt.ylabel('Receita Líquida por R$1.000.000')\n",
    "    plt.grid(True)\n",
    "    plt.xticks(rotation=45)\n",
    "    plt.yticks(np.arange(0, dados_veiculo['Receita Líquida'].max(), 1000000))\n",
    "    plt.tight_layout()\n",
    "    # Adicionando as linhas verticais de mudança de ano\n",
    "    for i, row in dados_veiculo.iterrows():\n",
    "        if i > 0 and row['Ano'] != dados_veiculo.loc[i-1, 'Ano']:\n",
    "            plt.axvline(x=row['Mês'], color='red', linestyle='--')\n",
    "    plt.legend(title='Ano')\n",
    "    plt.show()"
   ]
  },
  {
   "cell_type": "markdown",
   "id": "823cbb93",
   "metadata": {},
   "source": [
    "### Análise da Variação de Receita por Sazonalidade\n",
    "\n",
    "A análise dos gráficos revela um padrão claro na variação de receita ao longo do ano nas Unidades de Negócio. No primeiro semestre, observa-se um aumento gradual na receita, que pode ser atribuído ao impulso inicial das atividades econômicas no início do ano. No entanto, ao iniciar o segundo semestre, há uma tendência de queda na receita, seguida por uma recuperação nos meses subsequentes. Esse comportamento resulta em um pico significativo no mês de dezembro.\n",
    "\n",
    "Essa variação indica que a sazonalidade tem um papel crucial na geração de receita, com eventos, feriados e outras ocasiões específicas impactando diretamente a frequência e o volume das transações comerciais. A recorrência desses picos anuais sugere que as empresas devem estar preparadas para aproveitar esses períodos de alta demanda, ao mesmo tempo em que desenvolvem estratégias para mitigar as quedas observadas no meio do ano.\n",
    "\n",
    "Por isso, forma-se a hipótese de que a sazonalidade é um fator determinante na variação de receita, e entender esse padrão permite uma melhor alocação de recursos e planejamento estratégico para maximizar o desempenho financeiro ao longo do ano."
   ]
  },
  {
   "cell_type": "markdown",
   "id": "df63442f",
   "metadata": {},
   "source": [
    "\n",
    "\n",
    "### Plotagem de gráfico UEN por frequência    "
   ]
  },
  {
   "cell_type": "code",
   "execution_count": null,
   "id": "63ad8039",
   "metadata": {},
   "outputs": [],
   "source": [
    "df.head()"
   ]
  },
  {
   "cell_type": "code",
   "execution_count": null,
   "id": "2a228ec1",
   "metadata": {},
   "outputs": [],
   "source": [
    "df.shape"
   ]
  },
  {
   "cell_type": "code",
   "execution_count": null,
   "id": "7a8560ee",
   "metadata": {},
   "outputs": [],
   "source": [
    "df.keys()"
   ]
  },
  {
   "cell_type": "code",
   "execution_count": null,
   "id": "60c25aab",
   "metadata": {},
   "outputs": [],
   "source": [
    "\n",
    "plt.figure(figsize=(10,6))\n",
    "plt.hist(df['UEN'], bins=20, color='blue', edgecolor='black')\n",
    "plt.title('Frequência da tabela')\n",
    "plt.xlabel('UEN')\n",
    "plt.ylabel('Frequência')\n",
    "plt.grid(True)\n",
    "plt.show()\n"
   ]
  },
  {
   "cell_type": "markdown",
   "id": "e999592c",
   "metadata": {},
   "source": [
    "### Plotagem de gráfico Top 10 Clientes por ano"
   ]
  },
  {
   "cell_type": "markdown",
   "id": "4bf9abfa",
   "metadata": {},
   "source": [
    "### Introdução\n",
    "O gráfico de linhas acima apresenta a evolução da frequência dos principais clientes ao longo dos anos, destacando os 10 clientes mais recorrentes em um período específico. Cada linha no gráfico representa um cliente e mostra como a frequência de suas transações, ou outras métricas relevantes, variou ano a ano. O objetivo é identificar quais clientes mantiveram uma posição de destaque ao longo do tempo, sugerindo estabilidade, crescimento ou declínio em suas interações."
   ]
  },
  {
   "cell_type": "code",
   "execution_count": null,
   "id": "df10eb0e",
   "metadata": {},
   "outputs": [],
   "source": [
    "\n",
    "# Extraindo o ano da coluna Data\n",
    "df['Ano'] = df['Data'].dt.year\n",
    "\n",
    "# Contando a frequência de cada cliente por ano\n",
    "frequencia_por_cliente = df.groupby(['Ano', 'Cliente']).size().unstack(fill_value=0)\n",
    "\n",
    "# Selecionando os top 10 clientes por ano\n",
    "top_clientes_por_ano = frequencia_por_cliente.apply(lambda x: x.nlargest(10), axis=1)\n",
    "\n",
    "# Plotando o gráfico\n",
    "plt.figure(figsize=(14,8))\n",
    "\n",
    "for cliente in top_clientes_por_ano.columns:\n",
    "    plt.plot(top_clientes_por_ano.index, top_clientes_por_ano[cliente], label=cliente)\n",
    "\n",
    "plt.title('Top Clientes por Ano')\n",
    "plt.xlabel('Ano')\n",
    "plt.ylabel('Frequência')\n",
    "plt.legend(title='Cliente', bbox_to_anchor=(1.05, 1), loc='upper left')\n",
    "plt.grid(True)\n",
    "plt.show()\n"
   ]
  },
  {
   "cell_type": "markdown",
   "id": "1d66031b",
   "metadata": {},
   "source": [
    "### Conclusão\n",
    "A partir do gráfico, é possível observar que alguns clientes, como \"ASSOCIACAO DE SUPERMERCADOS REDE SHOW\" e \"COMPANHIA DO BOI COMERCIO DE CARNES EIRE,\" mantêm uma presença constante no top 10 ao longo de vários anos, demonstrando uma relação duradoura e consistente. Por outro lado, outros clientes aparecem apenas esporadicamente no top 10, indicando um comportamento de interação menos regular ou sazonal. Esta análise é crucial para entender a fidelidade dos clientes, identificar oportunidades de retenção e crescimento e adaptar estratégias comerciais para diferentes perfis de clientes."
   ]
  },
  {
   "cell_type": "markdown",
   "id": "75e5fcdc",
   "metadata": {},
   "source": [
    "#### Gráfico de Recorrência por desconto médio"
   ]
  },
  {
   "cell_type": "markdown",
   "id": "52755076",
   "metadata": {},
   "source": [
    "**Introdução:**\n",
    "\n",
    "Neste estudo, buscamos entender a relação entre o percentual de desconto oferecido pela nossa empresa e a recorrência dos clientes em fechar contratos. A hipótese inicial era de que maiores descontos poderiam resultar em uma maior fidelização dos clientes, incentivando-os a fechar mais contratos ao longo do tempo."
   ]
  },
  {
   "cell_type": "code",
   "execution_count": null,
   "id": "389416ec",
   "metadata": {},
   "outputs": [],
   "source": [
    "average_discounts = df.groupby('Cliente')['Desc %'].mean()\n",
    "\n",
    "recurrence = df['Cliente'].value_counts()\n",
    "\n",
    "result_df = pd.DataFrame({\n",
    "    'Recorrencia': recurrence,\n",
    "    'Desconto Médio (%)': average_discounts\n",
    "}).reset_index()\n",
    "\n",
    "result_df.columns = ['Cliente', 'Recorrencia', 'Desconto Médio (%)']\n",
    "\n",
    "plt.figure(figsize=(10, 6))\n",
    "plt.scatter(result_df['Desconto Médio (%)'], result_df['Recorrencia'])\n",
    "\n",
    "for i, row in result_df.iterrows():\n",
    "    plt.text(row['Desconto Médio (%)'], row['Recorrencia'], '.', fontsize=9)\n",
    "\n",
    "plt.title('Recorrência de Clientes x Desconto Médio (%)')\n",
    "plt.xlabel('Desconto Médio (%)')\n",
    "plt.ylabel('Recorrência')\n",
    "plt.grid(True)\n",
    "plt.show()\n",
    "plt.show()\n"
   ]
  },
  {
   "cell_type": "markdown",
   "id": "0af64408",
   "metadata": {},
   "source": [
    "**Conclusão:**\n",
    "\n",
    "Após analisar os dados e visualizar a recorrência dos clientes em relação à média de desconto recebido, constatamos que não há uma correlação clara entre esses dois fatores. Alguns clientes que fecharam um grande número de contratos não receberam qualquer desconto, enquanto outros que receberam descontos não demonstraram maior recorrência. Isso sugere que outros fatores, além do desconto, podem estar influenciando a fidelização dos clientes, e que o desconto, por si só, não é um determinante da lealdade do cliente na Rede Gazeta."
   ]
  },
  {
   "cell_type": "markdown",
   "id": "d3e5fa27",
   "metadata": {},
   "source": [
    "#### Gráficos de IPCA por quantidade de contratos fechados"
   ]
  },
  {
   "cell_type": "markdown",
   "id": "4a02553a",
   "metadata": {},
   "source": [
    "**Introdução:**\n",
    "\n",
    "O objetivo desta análise foi investigar se a variação do Índice de Preços ao Consumidor Amplo (IPCA) no Brasil influencia a quantidade de contratos fechados pela Rede Gazeta. A hipótese inicial era de que um IPCA mais baixo estaria associado a um maior número de contratos, indicando que períodos de menor inflação poderiam estimular a atividade comercial e, consequentemente, a contratação de serviços."
   ]
  },
  {
   "cell_type": "code",
   "execution_count": null,
   "id": "ae777d09",
   "metadata": {},
   "outputs": [],
   "source": [
    "bins = [0, 0.25, 0.5, 0.75, 1, 1.25, 1.5, 1.75, 2]\n",
    "labels = ['0-0.25', '0.25-0.5', '0.5-0.75', '0.75-1', '1-1.25', '1.25-1.5', '1.5-1.75', '1.75-2']\n",
    "\n",
    "# Criar uma nova coluna categorizando os valores de IPCA ES nos intervalos definidos\n",
    "df['IPCA ES Interval'] = pd.cut(df['IPCA ES'], bins=bins, labels=labels, right=False)\n",
    "\n",
    "# Contar a quantidade de contratos para cada intervalo de IPCA ES\n",
    "contratos_por_intervalo = df['IPCA ES Interval'].value_counts().sort_index()\n",
    "\n",
    "# Plotar o gráfico\n",
    "plt.figure(figsize=(10, 6))\n",
    "plt.bar(contratos_por_intervalo.index, contratos_por_intervalo, width=0.5)\n",
    "\n",
    "# Ajustes do gráfico\n",
    "plt.xlim(-0.5, len(labels)-0.5)\n",
    "plt.ylim(0, 14000)  # Limites do eixo Y de 0 a 14000 conforme sua solicitação\n",
    "plt.title('Quantidade de Contratos Fechados por Intervalo de IPCA ES')\n",
    "plt.xlabel('Intervalo de IPCA ES')\n",
    "plt.ylabel('Quantidade de Contratos')\n",
    "plt.grid(True, axis='y')\n",
    "\n",
    "# Exibir o gráfico\n",
    "plt.show()\n",
    "\n"
   ]
  },
  {
   "cell_type": "code",
   "execution_count": null,
   "id": "e50c722e",
   "metadata": {},
   "outputs": [],
   "source": [
    "# Definir os intervalos desejados\n",
    "bins = [0, 0.25, 0.5, 0.75, 1, 1.25, 1.5, 1.75, 2]\n",
    "labels = ['0-0.25', '0.25-0.5', '0.5-0.75', '0.75-1', '1-1.25', '1.25-1.5', '1.5-1.75', '1.75-2']\n",
    "\n",
    "# Criar uma nova coluna categorizando os valores de IPCA ES nos intervalos definidos\n",
    "df['IPCA BR Interval'] = pd.cut(df['IPCA BR'], bins=bins, labels=labels, right=False)\n",
    "\n",
    "# Contar a quantidade de contratos para cada intervalo de IPCA ES\n",
    "contratos_por_intervalo = df['IPCA BR Interval'].value_counts().sort_index()\n",
    "\n",
    "# Plotar o gráfico\n",
    "plt.figure(figsize=(10, 6))\n",
    "plt.bar(contratos_por_intervalo.index, contratos_por_intervalo, width=0.5)\n",
    "\n",
    "# Ajustes do gráfico\n",
    "plt.xlim(-0.5, len(labels)-0.5)\n",
    "plt.ylim(0, 14000)  # Limites do eixo Y de 0 a 14000 conforme sua solicitação\n",
    "plt.title('Quantidade de Contratos Fechados por Intervalo de IPCA BR')\n",
    "plt.xlabel('Intervalo de IPCA BR')\n",
    "plt.ylabel('Quantidade de Contratos')\n",
    "plt.grid(True, axis='y')\n",
    "\n",
    "# Exibir o gráfico\n",
    "plt.show()"
   ]
  },
  {
   "cell_type": "markdown",
   "id": "4886fb8f",
   "metadata": {},
   "source": [
    "**Conclusão:**\n",
    "\n",
    "Ao analisar o gráfico da quantidade de contratos fechados em função do IPCA BR, inicialmente observei uma aparente correlação entre um IPCA mais baixo e um maior número de contratos fechados. No entanto, ao não considerar os meses e anos correspondentes, a análise perdeu parte de sua relevância e precisão. Isso ressaltou a importância de incorporar a dimensão temporal em análises econômicas, para que se possa entender melhor a influência de variáveis como a inflação ao longo do tempo, ao invés de se basear em observações pontuais."
   ]
  },
  {
   "cell_type": "markdown",
   "id": "eb727ea4",
   "metadata": {},
   "source": [
    "## Plotagem gráfico Top 20 Clientes por Valor de Vl Liquido Final"
   ]
  },
  {
   "cell_type": "markdown",
   "id": "7b75ef47",
   "metadata": {},
   "source": [
    "Este gráfico ilustra a contribuição de cada cliente para a receita total gerada. Ele é especialmente útil quando comparado ao gráfico de relação entre cliente e frequência, permitindo identificar clientes que, independentemente da alta ou baixa frequência de interações, fecham contratos de maior valor. Isso pode ajudar a destacar clientes estratégicos que impulsionam significativamente a receita da empresa."
   ]
  },
  {
   "cell_type": "code",
   "execution_count": null,
   "id": "8f65d550",
   "metadata": {},
   "outputs": [],
   "source": [
    "import matplotlib.pyplot as plt\n",
    "\n",
    "# Supondo que 'Cliente' seja a coluna com os nomes dos clientes e 'Vl Liquido Final' seja a coluna com os valores\n",
    "client_sums = df.groupby('Cliente')['Vl Liquido Final'].sum()\n",
    "top_clients = client_sums.nlargest(20)\n",
    "\n",
    "# Configuração do gráfico\n",
    "plt.figure(figsize=(22, 12))\n",
    "\n",
    "# Gerar cores diferentes para cada cliente\n",
    "colors = plt.cm.get_cmap('tab20', len(top_clients))\n",
    "\n",
    "# Criar o gráfico de barras\n",
    "bars = plt.bar(range(len(top_clients)), top_clients, color=colors(range(len(top_clients))))\n",
    "\n",
    "# Título e rótulos\n",
    "plt.title('Top 20 Clientes por Valor de Vl Liquido Final', fontsize=16)\n",
    "plt.xlabel('Clientes', fontsize=14)\n",
    "plt.ylabel('Soma de Vl Liquido Final', fontsize=14)\n",
    "plt.xticks(ticks=range(len(top_clients)), labels=['']*len(top_clients), fontsize=12)\n",
    "\n",
    "# Adicionar uma legenda abaixo do gráfico\n",
    "plt.legend(bars, top_clients.index, title=\"Clientes\", bbox_to_anchor=(0.5, -0.15), loc='upper center', ncol=4, fontsize=12)\n",
    "\n",
    "# Ajustar o layout\n",
    "plt.tight_layout()\n",
    "plt.show()\n"
   ]
  },
  {
   "cell_type": "markdown",
   "id": "f730f349",
   "metadata": {},
   "source": [
    "#### Conclusão\n",
    "\n",
    "A partir dos gráficos analisados, podemos observar que alguns clientes, como a \"REALMAR DISTRIBUIDORA LTDA\" e a \"SUPERINTENDENCIA ESTADUAL DE COMUNICACAO\", são os principais responsáveis pela maior parte da receita gerada, apesar de outros clientes terem uma frequência de interação igualmente alta. Isso sugere que a geração de receita não está necessariamente relacionada ao número de transações, mas possivelmente ao valor de cada contrato fechado. \n",
    "\n",
    "Uma hipótese a ser explorada é que clientes com menor frequência de interação, mas que aparecem no topo da lista de receita, podem estar realizando contratos de maior valor unitário. Esse insight pode direcionar a estratégia comercial para focar em aumentar o valor das transações com clientes de alta frequência ou em fortalecer o relacionamento com clientes que já trazem grande valor, mesmo com interações menos frequentes."
   ]
  }
 ],
 "metadata": {
  "kernelspec": {
   "display_name": "Python 3 (ipykernel)",
   "language": "python",
   "name": "python3"
  },
  "language_info": {
   "codemirror_mode": {
    "name": "ipython",
    "version": 3
   },
   "file_extension": ".py",
   "mimetype": "text/x-python",
   "name": "python",
   "nbconvert_exporter": "python",
   "pygments_lexer": "ipython3",
   "version": "3.12.5"
  },
  "widgets": {
   "application/vnd.jupyter.widget-state+json": {
    "state": {},
    "version_major": 2,
    "version_minor": 0
   }
  }
 },
 "nbformat": 4,
 "nbformat_minor": 5
}
