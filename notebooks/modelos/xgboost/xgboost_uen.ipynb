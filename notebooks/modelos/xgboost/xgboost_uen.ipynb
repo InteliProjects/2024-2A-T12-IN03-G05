{
 "cells": [
  {
   "cell_type": "code",
   "execution_count": 1,
   "metadata": {},
   "outputs": [],
   "source": [
    "import pandas as pd\n",
    "import numpy as np"
   ]
  },
  {
   "cell_type": "code",
   "execution_count": 2,
   "metadata": {},
   "outputs": [
    {
     "data": {
      "text/html": [
       "<div>\n",
       "<style scoped>\n",
       "    .dataframe tbody tr th:only-of-type {\n",
       "        vertical-align: middle;\n",
       "    }\n",
       "\n",
       "    .dataframe tbody tr th {\n",
       "        vertical-align: top;\n",
       "    }\n",
       "\n",
       "    .dataframe thead th {\n",
       "        text-align: right;\n",
       "    }\n",
       "</style>\n",
       "<table border=\"1\" class=\"dataframe\">\n",
       "  <thead>\n",
       "    <tr style=\"text-align: right;\">\n",
       "      <th></th>\n",
       "      <th>UEN</th>\n",
       "      <th>Origem</th>\n",
       "      <th>Veiculo</th>\n",
       "      <th>Setor</th>\n",
       "      <th>Cliente</th>\n",
       "      <th>Vl Liquido Final</th>\n",
       "      <th>Contratos</th>\n",
       "      <th>Ano</th>\n",
       "      <th>Mes</th>\n",
       "    </tr>\n",
       "  </thead>\n",
       "  <tbody>\n",
       "    <tr>\n",
       "      <th>0</th>\n",
       "      <td>0</td>\n",
       "      <td>6</td>\n",
       "      <td>1</td>\n",
       "      <td>21</td>\n",
       "      <td>138</td>\n",
       "      <td>362051.13</td>\n",
       "      <td>141</td>\n",
       "      <td>2020</td>\n",
       "      <td>1</td>\n",
       "    </tr>\n",
       "    <tr>\n",
       "      <th>1</th>\n",
       "      <td>1</td>\n",
       "      <td>5</td>\n",
       "      <td>9</td>\n",
       "      <td>21</td>\n",
       "      <td>316</td>\n",
       "      <td>819268.49</td>\n",
       "      <td>414</td>\n",
       "      <td>2020</td>\n",
       "      <td>1</td>\n",
       "    </tr>\n",
       "    <tr>\n",
       "      <th>2</th>\n",
       "      <td>2</td>\n",
       "      <td>5</td>\n",
       "      <td>9</td>\n",
       "      <td>23</td>\n",
       "      <td>243</td>\n",
       "      <td>4212371.91</td>\n",
       "      <td>350</td>\n",
       "      <td>2020</td>\n",
       "      <td>1</td>\n",
       "    </tr>\n",
       "    <tr>\n",
       "      <th>3</th>\n",
       "      <td>0</td>\n",
       "      <td>6</td>\n",
       "      <td>1</td>\n",
       "      <td>25</td>\n",
       "      <td>133</td>\n",
       "      <td>444191.17</td>\n",
       "      <td>137</td>\n",
       "      <td>2020</td>\n",
       "      <td>2</td>\n",
       "    </tr>\n",
       "    <tr>\n",
       "      <th>4</th>\n",
       "      <td>1</td>\n",
       "      <td>5</td>\n",
       "      <td>9</td>\n",
       "      <td>23</td>\n",
       "      <td>318</td>\n",
       "      <td>985286.15</td>\n",
       "      <td>435</td>\n",
       "      <td>2020</td>\n",
       "      <td>2</td>\n",
       "    </tr>\n",
       "  </tbody>\n",
       "</table>\n",
       "</div>"
      ],
      "text/plain": [
       "   UEN  Origem  Veiculo  Setor  Cliente  Vl Liquido Final  Contratos   Ano  \\\n",
       "0    0       6        1     21      138         362051.13        141  2020   \n",
       "1    1       5        9     21      316         819268.49        414  2020   \n",
       "2    2       5        9     23      243        4212371.91        350  2020   \n",
       "3    0       6        1     25      133         444191.17        137  2020   \n",
       "4    1       5        9     23      318         985286.15        435  2020   \n",
       "\n",
       "   Mes  \n",
       "0    1  \n",
       "1    1  \n",
       "2    1  \n",
       "3    2  \n",
       "4    2  "
      ]
     },
     "execution_count": 2,
     "metadata": {},
     "output_type": "execute_result"
    }
   ],
   "source": [
    "from sklearn.preprocessing import LabelEncoder\n",
    "\n",
    "df_uen_geral = pd.read_csv('../../dataframes/df_uen_geral.csv')\n",
    "df_uen_geral['Ano'] = df_uen_geral['Data'].str[:4].astype(int)\n",
    "df_uen_geral['Mes'] = df_uen_geral['Data'].str[5:7].astype(int)\n",
    "df_uen_geral.drop(['Data'], axis=1, inplace=True)\n",
    "\n",
    "label_encoder = LabelEncoder()\n",
    "df_uen_geral['UEN'] = label_encoder.fit_transform(df_uen_geral['UEN'])\n",
    "\n",
    "\n",
    "df_uen_geral.head()"
   ]
  },
  {
   "cell_type": "code",
   "execution_count": 3,
   "metadata": {},
   "outputs": [],
   "source": [
    "from sklearn.model_selection import train_test_split\n",
    "\n",
    "X = df_uen_geral.drop(columns=['Vl Liquido Final'])\n",
    "y = df_uen_geral['Vl Liquido Final']\n",
    "\n",
    "X_train, X_test, y_train, y_test = train_test_split(X, y, train_size=0.33, random_state=42)"
   ]
  },
  {
   "cell_type": "code",
   "execution_count": 4,
   "metadata": {},
   "outputs": [
    {
     "name": "stdout",
     "output_type": "stream",
     "text": [
      "Mean Squared Error: 490342424823.484\n",
      "Mean Absolute Percentage Error: 0.26233266695325214\n",
      "R²: 0.9087889584071261\n"
     ]
    }
   ],
   "source": [
    "from xgboost import XGBRegressor\n",
    "from sklearn.metrics import mean_squared_error, r2_score\n",
    "from sklearn.metrics import mean_absolute_percentage_error\n",
    "\n",
    "xgb = XGBRegressor()\n",
    "xgb.fit(X_train, y_train)\n",
    "\n",
    "y_pred = xgb.predict(X_test)\n",
    "\n",
    "mse = mean_squared_error(y_test, y_pred)\n",
    "\n",
    "mape = mean_absolute_percentage_error(y_test, y_pred)\n",
    "\n",
    "r2 = r2_score(y_test, y_pred)\n",
    "\n",
    "print(f\"Mean Squared Error: {mse}\")\n",
    "print(f\"Mean Absolute Percentage Error: {mape}\")\n",
    "print(f\"R²: {r2}\")"
   ]
  }
 ],
 "metadata": {
  "kernelspec": {
   "display_name": "base",
   "language": "python",
   "name": "python3"
  },
  "language_info": {
   "codemirror_mode": {
    "name": "ipython",
    "version": 3
   },
   "file_extension": ".py",
   "mimetype": "text/x-python",
   "name": "python",
   "nbconvert_exporter": "python",
   "pygments_lexer": "ipython3",
   "version": "3.12.4"
  }
 },
 "nbformat": 4,
 "nbformat_minor": 2
}
