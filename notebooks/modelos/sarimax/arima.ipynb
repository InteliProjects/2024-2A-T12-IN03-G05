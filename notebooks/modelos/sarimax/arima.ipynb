{
 "cells": [
  {
   "cell_type": "code",
   "execution_count": null,
   "metadata": {},
   "outputs": [],
   "source": [
    "import pandas as pd\n",
    "from sklearn.model_selection import train_test_split\n",
    "from sklearn.tree import DecisionTreeRegressor\n",
    "from sklearn.metrics import mean_squared_error, mean_absolute_error\n",
    "from sklearn.preprocessing import LabelEncoder\n",
    "import matplotlib.pyplot as plt\n",
    "from sklearn.metrics import r2_score\n",
    "import pmdarima as pm\n",
    "\n",
    "df_veiculo_origem_televisao = pd.read_csv('../df_veiculo_origem_televisao.csv')\n",
    "\n",
    "df_veiculo_origem_televisao\n",
    "\n"
   ]
  },
  {
   "cell_type": "code",
   "execution_count": null,
   "metadata": {},
   "outputs": [],
   "source": [
    "\n",
    "df_veiculo_origem_televisao['Ano'] = pd.to_datetime(df_veiculo_origem_televisao['Data']).dt.year\n",
    "df_veiculo_origem_televisao['Mes'] = pd.to_datetime(df_veiculo_origem_televisao['Data']).dt.month\n",
    "df_veiculo_origem_televisao = df_veiculo_origem_televisao.drop(columns=[ 'VL Tabela', 'Vl Bruto', 'IPCA BR', 'IPCA ES', 'Taxa Ac. TRI % PIB', 'PMC - Número-índice (2022=100) (Número-índice)/ ES', 'PMC - Número-índice (2022=100) (Número-índice)/ BR', 'PMC - Número-índice com ajuste sazonal (2022=100) (Número-índice)/ ES', 'PMC - Número-índice com ajuste sazonal (2022=100) (Número-índice)/ BR', 'PMC - Variação mês/mês imediatamente anterior, com ajuste sazonal (M/M-1) (%)/ ES', 'PMC - Variação mês/mês imediatamente anterior, com ajuste sazonal (M/M-1) (%)/ BR','Clientes unicos', 'Setor', 'Numero Contratos'])\n",
    "\n",
    "df_veiculo_origem_televisao"
   ]
  },
  {
   "cell_type": "code",
   "execution_count": null,
   "metadata": {},
   "outputs": [],
   "source": [
    "df_veiculo_origem_televisao = df_veiculo_origem_televisao.groupby(['Data'], as_index=False)['Vl Liquido Final'].sum()\n",
    "\n",
    "df_veiculo_origem_televisao\n"
   ]
  },
  {
   "cell_type": "code",
   "execution_count": 6,
   "metadata": {},
   "outputs": [],
   "source": [
    "target = 'Vl Liquido Final'\n",
    "X = df_veiculo_origem_televisao.drop(columns=[target])\n",
    "y = df_veiculo_origem_televisao[target]\n"
   ]
  },
  {
   "cell_type": "code",
   "execution_count": null,
   "metadata": {},
   "outputs": [],
   "source": [
    "# Convert 'Data' column to datetime\n",
    "df_veiculo_origem_televisao['Data'] = pd.to_datetime(df_veiculo_origem_televisao['Data'])\n",
    "\n",
    "# Set 'Data' as the index\n",
    "df_veiculo_origem_televisao.set_index('Data', inplace=True)\n",
    "\n",
    "# Define target and features\n",
    "target = 'Vl Liquido Final'\n",
    "y = df_veiculo_origem_televisao[target]\n",
    "\n",
    "# Split the data into train and test sets\n",
    "train_size = int(len(y) * 0.75)\n",
    "train, test = y[:train_size], y[train_size:]\n",
    "\n",
    "# Fit the ARIMA model\n",
    "model = pm.auto_arima(train, seasonal=True, m=12)\n",
    "\n",
    "# Make predictions\n",
    "n_periods = len(test)\n",
    "predictions = model.predict(n_periods=n_periods)\n",
    "\n",
    "# Calculate metrics\n",
    "mse = mean_squared_error(test, predictions)\n",
    "print(f\"Mean Squared Error: {mse}\")\n",
    "\n",
    "r2 = r2_score(test, predictions)\n",
    "print(f'R^2: {r2}')\n",
    "\n",
    "mre = mean_absolute_error(test, predictions)\n",
    "print(f\"Mean Absolute Error: {mre}\")\n",
    "\n",
    "# Calculate Root Mean Squared Error (RMSE)\n",
    "rmse = mean_squared_error(test, predictions, squared=False)\n",
    "print(f\"Root Mean Squared Error: {rmse}\")\n",
    "\n",
    "# Plot the results\n",
    "plt.figure(figsize=(10, 6))\n",
    "plt.plot(train.index, train, label='Treino')\n",
    "plt.plot(test.index, test, label='Teste')\n",
    "plt.plot(test.index, predictions, label='Previsões', linestyle='--')\n",
    "plt.xlabel('Data')\n",
    "plt.ylabel('Vl Liquido Final')\n",
    "plt.title('Comparação entre Valores Reais e Previsões')\n",
    "plt.legend()\n",
    "plt.show()"
   ]
  },
  {
   "cell_type": "code",
   "execution_count": null,
   "metadata": {},
   "outputs": [],
   "source": [
    "feature_importances = model.feature_importances_\n",
    "\n",
    "features = X.columns\n",
    "importances_df = pd.DataFrame({'Feature': features, 'Importance': feature_importances})\n",
    "\n",
    "importances_df = importances_df.sort_values(by='Importance', ascending=False)\n",
    "\n",
    "plt.figure(figsize=(10, 6))\n",
    "plt.barh(importances_df['Feature'], importances_df['Importance'])\n",
    "plt.xlabel('Importância')\n",
    "plt.ylabel('Feature')\n",
    "plt.title('Importância das Features')\n",
    "plt.gca().invert_yaxis()\n",
    "plt.show()"
   ]
  },
  {
   "cell_type": "code",
   "execution_count": null,
   "metadata": {},
   "outputs": [],
   "source": [
    "max_depth = model.get_depth()\n",
    "print(f\"A profundidade máxima do modelo é: {max_depth}\")"
   ]
  }
 ],
 "metadata": {
  "kernelspec": {
   "display_name": "Python 3",
   "language": "python",
   "name": "python3"
  },
  "language_info": {
   "codemirror_mode": {
    "name": "ipython",
    "version": 3
   },
   "file_extension": ".py",
   "mimetype": "text/x-python",
   "name": "python",
   "nbconvert_exporter": "python",
   "pygments_lexer": "ipython3",
   "version": "3.12.5"
  }
 },
 "nbformat": 4,
 "nbformat_minor": 2
}
