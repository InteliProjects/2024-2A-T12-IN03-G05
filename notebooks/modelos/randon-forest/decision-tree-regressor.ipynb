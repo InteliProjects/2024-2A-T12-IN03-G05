{
 "cells": [
  {
   "cell_type": "code",
   "execution_count": null,
   "metadata": {},
   "outputs": [],
   "source": [
    "import pandas as pd\n",
    "from sklearn.model_selection import train_test_split\n",
    "from sklearn.tree import DecisionTreeRegressor\n",
    "from sklearn.metrics import mean_squared_error, mean_absolute_error\n",
    "from sklearn.preprocessing import OneHotEncoder\n",
    "from sklearn.metrics import r2_score\n",
    "import matplotlib.pyplot as plt\n",
    "\n",
    "df_veiculo_origem_televisao = pd.read_csv('../df_veiculo_origem_televisao.csv')\n",
    "\n",
    "df_veiculo_origem_televisao['Ano'] = pd.to_datetime(df_veiculo_origem_televisao['Data']).dt.year\n",
    "df_veiculo_origem_televisao['Mes'] = pd.to_datetime(df_veiculo_origem_televisao['Data']).dt.month\n",
    "\n",
    "# Remover a coluna original de datas\n",
    "df_veiculo_origem_televisao = df_veiculo_origem_televisao.drop(columns=['Data', 'VL Tabela', 'Vl Bruto', 'IPCA BR', 'IPCA ES', 'Taxa Ac. TRI % PIB', 'PMC - Número-índice (2022=100) (Número-índice)/ ES', 'PMC - Número-índice (2022=100) (Número-índice)/ BR', 'PMC - Número-índice com ajuste sazonal (2022=100) (Número-índice)/ ES', 'PMC - Número-índice com ajuste sazonal (2022=100) (Número-índice)/ BR', 'PMC - Variação mês/mês imediatamente anterior, com ajuste sazonal (M/M-1) (%)/ ES', 'PMC - Variação mês/mês imediatamente anterior, com ajuste sazonal (M/M-1) (%)/ BR','Clientes unicos', 'Setor', 'Numero Contratos','Ano'])\n",
    "\n",
    "df_veiculo_origem_televisao.columns\n",
    "\n",
    "# 2. Selecionar features e target\n",
    "target = 'Vl Liquido Final'\n",
    "categorical_columns = ['Veiculo', 'Origem']\n",
    "X = df_veiculo_origem_televisao.drop(columns=[target])\n",
    "y = df_veiculo_origem_televisao[target]\n",
    "\n",
    "# 3. Encodar variáveis categóricas\n",
    "encoder = OneHotEncoder(drop='first', sparse_output=False)  # Substituí 'sparse' por 'sparse_output'\n",
    "X_encoded = pd.DataFrame(encoder.fit_transform(X[categorical_columns]), columns=encoder.get_feature_names_out(categorical_columns))\n",
    "\n",
    "# Substituir colunas categóricas pelas colunas encodadas\n",
    "X = X.drop(columns=categorical_columns)\n",
    "X = pd.concat([X, X_encoded], axis=1)\n",
    "\n",
    "# 4. Dividir em treino e teste\n",
    "X_train, X_test, y_train, y_test = train_test_split(X, y, test_size=0.2, random_state=42)\n",
    "\n",
    "# 5. Criar o modelo\n",
    "model = DecisionTreeRegressor(random_state=42)\n",
    "\n",
    "# 6. Treinar o modelo\n",
    "model.fit(X_train, y_train)\n",
    "\n",
    "# 7. Fazer previsões\n",
    "y_pred = model.predict(X_test)\n",
    "\n",
    "# 8. Avaliar o modelo\n",
    "mse = mean_squared_error(y_test, y_pred)\n",
    "print(f\"Mean Squared Error: {mse}\")\n",
    "\n",
    "mae = mean_absolute_error(y_test, y_pred)\n",
    "print(f\"Mean Absolute Error: {mae}\")\n"
   ]
  },
  {
   "cell_type": "code",
   "execution_count": null,
   "metadata": {},
   "outputs": [],
   "source": [
    "plt.figure(figsize=(10, 6))\n",
    "plt.plot(y_test.values, label='Valores Reais')\n",
    "plt.plot(y_pred, label='Previsões', linestyle='--')\n",
    "plt.xlabel('Índice')\n",
    "plt.ylabel('Vl Liquido Final')\n",
    "plt.title('Comparação entre Valores Reais e Previsões')\n",
    "plt.legend()\n",
    "plt.show()\n",
    "\n",
    "\n",
    "r2 = r2_score(y_test, y_pred)\n",
    "print(f'R^2: {r2}')"
   ]
  }
 ],
 "metadata": {
  "kernelspec": {
   "display_name": "Python 3",
   "language": "python",
   "name": "python3"
  },
  "language_info": {
   "codemirror_mode": {
    "name": "ipython",
    "version": 3
   },
   "file_extension": ".py",
   "mimetype": "text/x-python",
   "name": "python",
   "nbconvert_exporter": "python",
   "pygments_lexer": "ipython3",
   "version": "3.12.5"
  }
 },
 "nbformat": 4,
 "nbformat_minor": 2
}
